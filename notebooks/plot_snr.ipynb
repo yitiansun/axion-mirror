{
 "cells": [
  {
   "cell_type": "code",
   "execution_count": 1,
   "id": "b32038e1-bf88-4269-8bf4-fdd695c69ef8",
   "metadata": {},
   "outputs": [],
   "source": [
    "%reload_ext autoreload\n",
    "%autoreload 2\n",
    "\n",
    "import sys\n",
    "\n",
    "import numpy as np\n",
    "import healpy as hp\n",
    "import jax.numpy as jnp\n",
    "from jax import jit, vmap\n",
    "    \n",
    "%matplotlib inline\n",
    "import matplotlib as mpl\n",
    "import matplotlib.pyplot as plt\n",
    "from matplotlib import colormaps as cms\n",
    "mpl.rc_file('../matplotlibrc')"
   ]
  },
  {
   "cell_type": "code",
   "execution_count": null,
   "id": "9e3193d0-bf70-4d61-911a-ed62a6b0eb78",
   "metadata": {},
   "outputs": [],
   "source": [
    "sys.path.append(\"..\")"
   ]
  },
  {
   "cell_type": "code",
   "execution_count": 3,
   "id": "5db4418f-051f-42e9-b3e3-cb646604aa72",
   "metadata": {
    "tags": []
   },
   "outputs": [],
   "source": [
    "valid_snr_list = load_snr_list(\"../outputs/snr/prebuild_snr_list_fullinfo.json\")"
   ]
  },
  {
   "cell_type": "markdown",
   "id": "5e3c6d5a-435a-409c-98a2-903681e65fba",
   "metadata": {},
   "source": [
    "## 1. Location"
   ]
  },
  {
   "cell_type": "markdown",
   "id": "615b9043-27a1-4386-af6a-f3b9e678c021",
   "metadata": {},
   "source": [
    "## 1. Location"
   ]
  },
  {
   "cell_type": "markdown",
   "id": "2ebf8e2f-311b-4fef-99f0-464214970d3d",
   "metadata": {},
   "source": [
    "## 1. Location"
   ]
  },
  {
   "cell_type": "markdown",
   "id": "b627739c-9787-4da2-a004-b0dbba3c0cd9",
   "metadata": {},
   "source": [
    "## 1. Location"
   ]
  },
  {
   "cell_type": "markdown",
   "id": "753e2716-f25f-47f9-aac8-677e039c2f3f",
   "metadata": {},
   "source": [
    "## 1. Location"
   ]
  },
  {
   "cell_type": "markdown",
   "id": "ffd3dd31-5323-4de8-bd23-a3f79733231a",
   "metadata": {},
   "source": [
    "## 1. Location"
   ]
  },
  {
   "cell_type": "code",
   "execution_count": null,
   "id": "21eb31e4-95a1-4dd2-a7fc-b5933d6581da",
   "metadata": {},
   "outputs": [],
   "source": []
  }
 ],
 "metadata": {
  "kernelspec": {
   "display_name": "Python [conda env:.conda-torch]",
   "language": "python",
   "name": "conda-env-.conda-torch-py"
  },
  "language_info": {
   "codemirror_mode": {
    "name": "ipython",
    "version": 3
   },
   "file_extension": ".py",
   "mimetype": "text/x-python",
   "name": "python",
   "nbconvert_exporter": "python",
   "pygments_lexer": "ipython3",
   "version": "3.11.4"
  }
 },
 "nbformat": 4,
 "nbformat_minor": 5
}
