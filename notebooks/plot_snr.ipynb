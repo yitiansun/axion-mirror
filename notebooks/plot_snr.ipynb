{
 "cells": [
  {
   "cell_type": "code",
   "execution_count": 1,
   "id": "b32038e1-bf88-4269-8bf4-fdd695c69ef8",
   "metadata": {},
   "outputs": [],
   "source": [
    "%reload_ext autoreload\n",
    "%autoreload 2\n",
    "\n",
    "import sys\n",
    "\n",
    "import numpy as np\n",
    "import healpy as hp\n",
    "import jax.numpy as jnp\n",
    "from jax import jit, vmap\n",
    "    \n",
    "%matplotlib inline\n",
    "import matplotlib as mpl\n",
    "import matplotlib.pyplot as plt\n",
    "from matplotlib import colormaps as cms\n",
    "mpl.rc_file('../matplotlibrc')"
   ]
  },
  {
   "cell_type": "code",
   "execution_count": null,
   "id": "9e3193d0-bf70-4d61-911a-ed62a6b0eb78",
   "metadata": {},
   "outputs": [],
   "source": [
    "sys.path.append(\"..\")"
   ]
  },
  {
   "cell_type": "code",
   "execution_count": 3,
   "id": "5db4418f-051f-42e9-b3e3-cb646604aa72",
   "metadata": {
    "tags": []
   },
   "outputs": [],
   "source": [
    "valid_snr_list = load_snr_list(\"../outputs/snr/prebuild_snr_list_fullinfo.json\")"
   ]
  },
  {
   "cell_type": "markdown",
   "id": "5e3c6d5a-435a-409c-98a2-903681e65fba",
   "metadata": {},
   "source": [
    "## 1. Location"
   ]
  }
 ],
 "metadata": {
  "kernelspec": {
   "display_name": "Python 3 (ipykernel)",
   "language": "python",
   "name": "python3"
  },
  "language_info": {
   "codemirror_mode": {
    "name": "ipython",
    "version": 3
   },
   "file_extension": ".py",
   "mimetype": "text/x-python",
   "name": "python",
   "nbconvert_exporter": "python",
   "pygments_lexer": "ipython3",
   "version": "3.11.4"
  }
 },
 "nbformat": 4,
 "nbformat_minor": 5
}
