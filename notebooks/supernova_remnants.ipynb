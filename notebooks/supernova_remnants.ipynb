{
 "cells": [
  {
   "cell_type": "code",
   "execution_count": 1,
   "id": "bba09246-c2c7-4213-8ff6-9d4d5375f13f",
   "metadata": {},
   "outputs": [],
   "source": [
    "%reload_ext autoreload\n",
    "%autoreload 2\n",
    "import os, sys\n",
    "sys.path.append('..')\n",
    "\n",
    "from tqdm import tqdm\n",
    "import dill as pickle\n",
    "import csv\n",
    "import datetime\n",
    "import warnings\n",
    "\n",
    "import numpy as np\n",
    "from scipy import integrate\n",
    "from scipy.integrate import IntegrationWarning\n",
    "\n",
    "%matplotlib inline\n",
    "import matplotlib as mpl\n",
    "import matplotlib.pyplot as plt\n",
    "mpl.rc_file('../matplotlibrc')"
   ]
  },
  {
   "cell_type": "code",
   "execution_count": 2,
   "id": "b774caa9-0333-4991-93df-81f25d72dbf5",
   "metadata": {},
   "outputs": [],
   "source": [
    "from utils.snr import *\n",
    "from utils.spectral import *\n",
    "from utils.nfw import rho_NFW"
   ]
  },
  {
   "cell_type": "markdown",
   "id": "03f2de2b-ccfd-4c5c-89ea-f082e4cb82e7",
   "metadata": {},
   "source": [
    "## 1. Download"
   ]
  },
  {
   "cell_type": "code",
   "execution_count": 3,
   "id": "e70caecd-b3e1-45ae-89e4-374746e5169c",
   "metadata": {
    "collapsed": true,
    "jupyter": {
     "outputs_hidden": true
    },
    "tags": []
   },
   "outputs": [
    {
     "name": "stdout",
     "output_type": "stream",
     "text": [
      "--2023-04-26 14:49:16--  http://snrcat.physics.umanitoba.ca/SNRdownload.php?table=SNR\n",
      "Resolving snrcat.physics.umanitoba.ca (snrcat.physics.umanitoba.ca)... 130.179.72.161\n",
      "Connecting to snrcat.physics.umanitoba.ca (snrcat.physics.umanitoba.ca)|130.179.72.161|:80... connected.\n",
      "HTTP request sent, awaiting response... 200 OK\n",
      "Length: unspecified [text/csv]\n",
      "Saving to: ‘../data/SNR/SNRcat-SNR.csv’\n",
      "\n",
      "    [ <=>                                   ] 49,473      --.-K/s   in 0.07s   \n",
      "\n",
      "2023-04-26 14:49:16 (726 KB/s) - ‘../data/SNR/SNRcat-SNR.csv’ saved [49473]\n",
      "\n",
      "--2023-04-26 14:49:17--  http://snrcat.physics.umanitoba.ca/SNRdownload.php?table=SNR\n",
      "Resolving snrcat.physics.umanitoba.ca (snrcat.physics.umanitoba.ca)... 130.179.72.161\n",
      "Connecting to snrcat.physics.umanitoba.ca (snrcat.physics.umanitoba.ca)|130.179.72.161|:80... connected.\n",
      "HTTP request sent, awaiting response... 200 OK\n",
      "Length: unspecified [text/csv]\n",
      "Saving to: ‘../data/SNR/SNRcat-OBS.csv’\n",
      "\n",
      "    [ <=>                                   ] 49,473      --.-K/s   in 0.07s   \n",
      "\n",
      "2023-04-26 14:49:17 (706 KB/s) - ‘../data/SNR/SNRcat-OBS.csv’ saved [49473]\n",
      "\n"
     ]
    }
   ],
   "source": [
    "! wget \"http://snrcat.physics.umanitoba.ca/SNRdownload.php?table=SNR\" -O ../data/SNR/SNRcat-SNR.csv\n",
    "! wget \"http://snrcat.physics.umanitoba.ca/SNRdownload.php?table=SNR\" -O ../data/SNR/SNRcat-OBS.csv"
   ]
  },
  {
   "cell_type": "code",
   "execution_count": 6,
   "id": "71f2495d-5a24-486c-ba72-36a90c76bced",
   "metadata": {},
   "outputs": [],
   "source": [
    "# removed first 2 lines of the files\n",
    "date_str = datetime.date.today().strftime(\"%Y%m%d\")\n",
    "for tag in ['SNR', 'OBS']:\n",
    "    reader = csv.reader(open(f'../data/SNR/SNRcat-{tag}.csv', 'r'), delimiter=';')\n",
    "    next(reader); next(reader)\n",
    "    writer = csv.writer(open(f'../data/SNR/SNRcat{date_str}-{tag}_dehead.csv', 'w'), delimiter=';')\n",
    "    writer.writerows(reader)"
   ]
  },
  {
   "cell_type": "markdown",
   "id": "110842e7-3506-4fd7-bbaf-bc6f255989aa",
   "metadata": {},
   "source": [
    "## 2. Filter valid SNR"
   ]
  },
  {
   "cell_type": "markdown",
   "id": "0ff47758-f9ec-49d5-8b0a-cbbc4fa1a10e",
   "metadata": {},
   "source": [
    "### 2.1 Valid SNR from SNRcat\n",
    "Requires SNR to have distance and age information."
   ]
  },
  {
   "cell_type": "code",
   "execution_count": 16,
   "id": "41ff8be8-85ff-4b68-8ec5-e4d56d81d15e",
   "metadata": {},
   "outputs": [],
   "source": [
    "date_str = '20230426'"
   ]
  },
  {
   "cell_type": "code",
   "execution_count": 17,
   "id": "ad5b65eb-13ff-4a0c-ac9e-bebd122131f7",
   "metadata": {},
   "outputs": [
    {
     "name": "stdout",
     "output_type": "stream",
     "text": [
      "382: G359.9-00.0\r"
     ]
    }
   ],
   "source": [
    "snr_list = []\n",
    "snr_valid_list = []\n",
    "\n",
    "with open(f'../data/SNR/SNRcat{date_str}-SNR_dehead.csv', 'r') as csvf:\n",
    "    csv_reader = csv.DictReader(csvf, delimiter=';')\n",
    "    \n",
    "    for i, row in enumerate(csv_reader):\n",
    "        \n",
    "        if row['G'] == 'G358.1+00.1':\n",
    "            row['G'] = 'G358.1+01.0' # error in SNRcat\n",
    "        print(f\"{i}: {row['G']}\", end='\\r', flush=True)\n",
    "        \n",
    "        d_min = row['distance_min (kpc)'] # must have dist min & max\n",
    "        d_max = row['distance_max (kpc)']\n",
    "        t_now_min = row['age_min (yr)'] # must have age min & max\n",
    "        t_now_max = row['age_max (yr)']\n",
    "        \n",
    "        if d_min != '' and d_max != '':\n",
    "            d = np.sqrt( float(d_min) * float(d_max) )\n",
    "        else:\n",
    "            d = None\n",
    "            \n",
    "        if t_now_min != '' and t_now_max != '':\n",
    "            t_now = np.sqrt( float(t_now_min) * float(t_now_max) )\n",
    "        else:\n",
    "            t_now = None\n",
    "        \n",
    "        snr = SNR(\n",
    "            ID = row['G'],\n",
    "            name_alt = row['id_alt'],\n",
    "            snr_type = row['type'],\n",
    "            l = float(row['G'][1:6]) * deg,\n",
    "            b = float(row['G'][6:11]) * deg,\n",
    "            size = float(row['size_coarse (arcmin)']) * arcmin,\n",
    "            d = d,\n",
    "            t_now = t_now,\n",
    "            snrcat_dict = row\n",
    "        )\n",
    "        # Additional information\n",
    "        if snr.d is not None:\n",
    "            snr.d_min = float(d_min)\n",
    "            snr.d_max = float(d_max)\n",
    "        if snr.t_now is not None:\n",
    "            snr.t_now_min = float(t_now_min)\n",
    "            snr.t_now_max = float(t_now_max)\n",
    "        \n",
    "        snr_list.append(snr)\n",
    "        if d is not None and t_now is not None:\n",
    "            snr_valid_list.append(snr)"
   ]
  },
  {
   "cell_type": "markdown",
   "id": "537ede16-be40-484a-8628-b6dda96bb8f1",
   "metadata": {},
   "source": [
    "### 2.2 Valid SNR from Green's catalog\n",
    "Requires SNR to have flux information. Copy [this page](https://www.mrao.cam.ac.uk/surveys/snrs/snrs.data.html) to `../data/SNR/Green.txt`"
   ]
  },
  {
   "cell_type": "code",
   "execution_count": 18,
   "id": "37d21485-9bbf-464b-ae46-367f0a9c9811",
   "metadata": {
    "tags": []
   },
   "outputs": [
    {
     "name": "stdout",
     "output_type": "stream",
     "text": [
      "O_O__O___________O____O__O_________O____________OO___O____O_OO___O_O_O_O_O__O___O___O_OOO__OO_O___O__OOOOOO__O___OOO__O__O__OOO_OO_OO__O___OO_OOOO_OO_O__O_OO__O_O_O_OO_O_OOO_O__OOOO__OOOO_____OO__O___O___O_____O_____O_O____O__OOO__OO_O__________O_O_OO_O______O_________O___OO_\n",
      "can't find: None.\n",
      "G000.9+00.1 varies \n",
      "G006.4-00.1 varies W28\n",
      "G021.5-00.9 varies \n",
      "G031.9+00.0 varies 3C391\n",
      "G065.7+01.2 varies DA 495\n",
      "G069.0+02.7 varies CTB 80\n",
      "G074.0-08.5 varies Cygnus Loop\n",
      "G074.9+01.2 varies CTB 87\n",
      "G180.0-01.7 varies S147\n",
      "G263.9-03.3 varies Vela (XYZ)\n",
      "G326.3-01.8 varies MSH 15-56\n",
      "\n",
      "Total valid SNR: 102\n"
     ]
    }
   ],
   "source": [
    "snr_valid_SG_list = []\n",
    "varied_str = ''\n",
    "cant_find_str = ''\n",
    "\n",
    "with open('../data/SNR/Green.txt') as f:\n",
    "    lines = f.readlines()\n",
    "    for i, line in enumerate(lines[4:]):\n",
    "        line_strs = list(filter(None,line.split(' ')))\n",
    "        green_dict = {}\n",
    "        green_dict['ID'] = GID(line_strs[0], line_strs[1])\n",
    "        green_dict['name_oth'] = '' if len(line_strs)<=11 else ' '.join(line_strs[11:]).replace('\\n', '')\n",
    "        green_dict['size_str'] = line_strs[7]\n",
    "        green_dict['type'] = line_strs[8]\n",
    "        green_dict['Snu1GHz'] = line_strs[9]\n",
    "        green_dict['spec_ind'] = line_strs[10].replace('\\n', '')\n",
    "        \n",
    "        snr       = get_snr(green_dict['ID'], snr_list)\n",
    "        snr_valid = get_snr(green_dict['ID'], snr_valid_list)\n",
    "        \n",
    "        if snr is None:\n",
    "            print('X', end='')\n",
    "            cant_find_str += green_dict['ID'] + ' '\n",
    "            continue\n",
    "        if snr_valid is None:\n",
    "            print('_', end='')\n",
    "            continue\n",
    "        \n",
    "        Snu1GHz_str = green_dict['Snu1GHz'].replace('?','').replace('>','')\n",
    "        if Snu1GHz_str == '':\n",
    "            continue\n",
    "        snr.Snu1GHz = float(Snu1GHz_str)\n",
    "        \n",
    "        si_str = green_dict['spec_ind'].replace('?','')\n",
    "        if si_str == '':\n",
    "            continue\n",
    "        try:\n",
    "            snr.si = float(si_str)\n",
    "        except ValueError:\n",
    "            snr.si = si_str\n",
    "            varied_str += green_dict['ID']+' '+green_dict['spec_ind']+' '+green_dict['name_oth']+'\\n'\n",
    "        \n",
    "        snr.green_dict = green_dict\n",
    "            \n",
    "        snr_valid_SG_list.append(snr)\n",
    "        print('O', end='')\n",
    "        \n",
    "    if cant_find_str == '':\n",
    "        cant_find_str = 'None.'\n",
    "    print('\\ncan\\'t find: '+cant_find_str)\n",
    "    print(varied_str)\n",
    "    \n",
    "print(f'Total valid SNR: {len(snr_valid_SG_list)}')"
   ]
  },
  {
   "cell_type": "code",
   "execution_count": 19,
   "id": "94de713a-d898-45b1-b0cb-f20bf259796a",
   "metadata": {},
   "outputs": [],
   "source": [
    "pickle.dump(snr_valid_SG_list, open('../data/SNR/prebuild_snrlist.p', 'wb'))"
   ]
  },
  {
   "cell_type": "markdown",
   "id": "8a158922-bd7c-4856-8793-58103ed46f63",
   "metadata": {},
   "source": [
    "## 3. Build SNR with fiducial values and variations"
   ]
  },
  {
   "cell_type": "code",
   "execution_count": 8,
   "id": "de1877e0-3585-4db1-9109-7fd1a2a9ec1c",
   "metadata": {},
   "outputs": [],
   "source": [
    "variation_flags = ['none', 'tiop1', 'tMFA_p', 'tMFA_m', 'd_p', 'd_m', 'age_p', 'age_m']"
   ]
  },
  {
   "cell_type": "code",
   "execution_count": 20,
   "id": "24c29ac7-0503-46ea-a818-bcb6d3141b33",
   "metadata": {},
   "outputs": [
    {
     "name": "stdout",
     "output_type": "stream",
     "text": [
      "d_p :\n"
     ]
    },
    {
     "name": "stderr",
     "output_type": "stream",
     "text": [
      "100%|█████████████████████████████████████████████████████████████████████████████| 102/102 [02:59<00:00,  1.76s/it]\n"
     ]
    },
    {
     "name": "stdout",
     "output_type": "stream",
     "text": [
      "d_m :\n"
     ]
    },
    {
     "name": "stderr",
     "output_type": "stream",
     "text": [
      "100%|█████████████████████████████████████████████████████████████████████████████| 102/102 [02:59<00:00,  1.76s/it]\n"
     ]
    },
    {
     "name": "stdout",
     "output_type": "stream",
     "text": [
      "age_p :\n"
     ]
    },
    {
     "name": "stderr",
     "output_type": "stream",
     "text": [
      "100%|█████████████████████████████████████████████████████████████████████████████| 102/102 [03:13<00:00,  1.89s/it]\n"
     ]
    },
    {
     "name": "stdout",
     "output_type": "stream",
     "text": [
      "age_m :\n"
     ]
    },
    {
     "name": "stderr",
     "output_type": "stream",
     "text": [
      "100%|█████████████████████████████████████████████████████████████████████████████| 102/102 [02:38<00:00,  1.55s/it]\n"
     ]
    }
   ],
   "source": [
    "warnings.filterwarnings('ignore', category=IntegrationWarning)\n",
    "\n",
    "for vflag in variation_flags[4:]:\n",
    "    \n",
    "    print(vflag, ':')\n",
    "    snr_valid_SG_list = pickle.load(open('../data/SNR/prebuild_snrlist.p', 'rb'))\n",
    "    \n",
    "    #===== general snr =====\n",
    "    for snr in snr_valid_SG_list:\n",
    "        if isinstance(snr.si, str):\n",
    "            snr.si = 0.5\n",
    "            snr.si_guessed = True\n",
    "        else:\n",
    "            snr.si_guessed = False\n",
    "        snr.t_free = 500 # [yr]\n",
    "        if vflag == 'tMFA_p':\n",
    "            snr.t_MFA = 300 # [yr]\n",
    "        elif vflag == 'tMFA_m':\n",
    "            snr.t_MFA = 30 # [yr]\n",
    "        else:\n",
    "            snr.t_MFA = 100 # [yr]\n",
    "            \n",
    "        # Adjust d and age\n",
    "        if vflag == 'd_p':\n",
    "            snr.d = snr.d_max\n",
    "        elif vflag == 'd_m':\n",
    "            snr.d = snr.d_min\n",
    "            \n",
    "        if vflag == 'age_p':\n",
    "            snr.t_now = snr.t_now_max\n",
    "        elif vflag == 'age_m':\n",
    "            snr.t_now = snr.t_now_min\n",
    "        \n",
    "    #===== individual changes =====\n",
    "    snr = get_snr('G263.9-03.3', snr_valid_SG_list)\n",
    "    snr.name_alt = 'Vela'\n",
    "    snr.si = (2.47-1)/2 # fiducial: 2.47\n",
    "    snr.t_now = 12000 # fiducial: 10000-12000-14000\n",
    "    if vflag == 'age_p':\n",
    "        snr.t_now = 14000\n",
    "    elif vflag == 'age_m':\n",
    "        snr.t_now = 10000\n",
    "    snr.d = 0.287 # kpc\n",
    "    if vflag == 'd_p':\n",
    "        snr.d = 0.287 + 0.019\n",
    "    if vflag == 'd_m':\n",
    "        snr.d = 0.287 - 0.017\n",
    "    snr.Snu1GHz = 670\n",
    "\n",
    "    snr = get_snr('G006.4-00.1', snr_valid_SG_list)\n",
    "    snr.name_alt = 'W28'\n",
    "    snr.si = 0.42 # Kassim 1992 | 330 MHz VLA OBSERVATIONS OF 20 GALACTIC SUPERNOVA REMNANTS\n",
    "    # density # https://arxiv.org/pdf/1805.03372.pdf, Reach et al 2005\n",
    "    snr.t_now = 34467 # yr\n",
    "    if vflag == 'age_p':\n",
    "        snr.t_now = 100000\n",
    "    elif vflag == 'age_m':\n",
    "        snr.t_now = 30000\n",
    "    snr.d = 1.876 # kpc\n",
    "    if vflag == 'd_p':\n",
    "        snr.d = 1.6\n",
    "    if vflag == 'd_m':\n",
    "        snr.d = 2.2\n",
    "\n",
    "    snr = get_snr('G039.7-02.0', snr_valid_SG_list)\n",
    "    snr.name_alt = 'W50'\n",
    "    snr.t_now = 54772 # fiducial: 30000-54772-100000\n",
    "    if vflag == 'age_p':\n",
    "        snr.t_now = 100000\n",
    "    elif vflag == 'age_m':\n",
    "        snr.t_now = 30000\n",
    "    snr.d = 4.77 # kpc\n",
    "    if vflag == 'd_p':\n",
    "        snr.d = 3.5\n",
    "    if vflag == 'd_m':\n",
    "        snr.d = 6.5\n",
    "    snr.si = 0.7 # fiducial: 0.7\n",
    "\n",
    "    snr = get_snr('G326.3-01.8', snr_valid_SG_list)\n",
    "    snr.name_alt = 'MSH 15-56'\n",
    "    snr.si = 0.34 # RADIO EMISSION FROM THE COMPOSITE SUPERNOVA REMNANT G326.3-1.8 (MSH 15-56)\n",
    "    \n",
    "    #===== build =====\n",
    "    if vflag == 'tiop1':\n",
    "        tiop = '1'\n",
    "    else:\n",
    "        tiop = '2'\n",
    "    for snr in tqdm(snr_valid_SG_list):\n",
    "        snr.build(rho_DM=rho_NFW, tiop=tiop)\n",
    "        \n",
    "    #===== save =====\n",
    "    pickle.dump(snr_valid_SG_list, open(f'../data/SNR/snrlist_{vflag}.p', 'wb'))"
   ]
  },
  {
   "cell_type": "markdown",
   "id": "65a34474-991b-4ff7-8824-8602ce79ac52",
   "metadata": {},
   "source": [
    "## Check"
   ]
  },
  {
   "cell_type": "code",
   "execution_count": 20,
   "id": "71aa607c-030c-418a-9162-9daf1a5bd5ec",
   "metadata": {},
   "outputs": [],
   "source": [
    "a = pickle.load(open(f'../data/SNR/snrlist.p', 'rb'))\n",
    "b = pickle.load(open(f'../data/SNR/snrlist_none.p', 'rb'))"
   ]
  },
  {
   "cell_type": "code",
   "execution_count": 25,
   "id": "d40be5e6-d27e-4742-8e00-fd5af3d4d073",
   "metadata": {},
   "outputs": [
    {
     "name": "stdout",
     "output_type": "stream",
     "text": [
      "0.500885621166035\n",
      "2.177497162520584e-05\n",
      "-3.490578893121527e-05\n",
      "8.08321996262222e-09\n",
      "4.049186852664953e-06\n",
      "-3.5738279386853174e-08\n",
      "4.5067091468635276e-06\n",
      "1.0972249322015124e-06\n",
      "3.75310786517587e-06\n",
      "4.264350831026862e-06\n",
      "-6.082584591750373e-08\n",
      "2.4200599659013326e-08\n",
      "3.079608941397334e-07\n",
      "1.4696716367222188e-05\n",
      "3.617772656540522e-08\n",
      "2.2770792035511104e-08\n",
      "6.174876428193226e-06\n",
      "2.7943495109827606e-06\n",
      "1.4036446530878358e-05\n",
      "2.288435696208322e-08\n",
      "-6.11108336750402e-08\n",
      "9.293864840856424e-07\n",
      "5.5230097391785296e-08\n",
      "3.9713771711382296e-07\n",
      "-1.2812527140487245e-07\n",
      "3.511309665125148e-08\n",
      "-1.6976386181395234e-06\n",
      "1.0205546933544133e-06\n",
      "6.929882741189988e-08\n",
      "-6.177902972279775e-09\n",
      "0.0014852523461517985\n",
      "1.3106439664055343e-08\n",
      "-9.50366732023932e-06\n",
      "4.979650003421187e-10\n",
      "-1.5672902217084191e-07\n",
      "3.770047623113282e-08\n",
      "7.346343021461398e-09\n",
      "-3.2056659308436395e-09\n",
      "7.767907905696189e-06\n",
      "2.2341697893055416e-08\n",
      "1.7207056211123576e-07\n",
      "-4.55964021484703e-08\n",
      "8.107943667467483e-08\n",
      "5.0236977135744777e-08\n",
      "7.925087185516272e-09\n",
      "8.56818944425955e-06\n",
      "4.0417534184585984e-08\n",
      "7.477699357685494e-08\n",
      "1.04725042732635e-07\n",
      "4.5975424777129764e-07\n",
      "2.0250508683059598e-07\n",
      "5.270509231875823e-08\n",
      "-1.4782992853717852e-06\n",
      "2.5334462108741073e-08\n",
      "1.5336966669199666e-08\n",
      "4.0913324869070247e-07\n",
      "7.085084122971319e-09\n",
      "1.8126389469368244e-08\n",
      "6.867898138514941e-08\n",
      "1.134075810035405e-06\n",
      "4.411351216778837e-08\n",
      "0.00036888650831778144\n",
      "1.0271516446342067e-08\n",
      "3.9091887843121274e-08\n",
      "2.62688815873528e-08\n",
      "3.252290439492599e-08\n",
      "5.4767148747142786e-08\n",
      "5.304405741190219e-07\n",
      "6.834766363296564e-06\n",
      "1.919198073726567e-07\n",
      "4.808981839429669e-06\n",
      "1.5074581758724245e-07\n",
      "-1.7642249583609302e-06\n",
      "1.8898286939587932e-05\n",
      "2.05415370964107e-06\n",
      "-2.3778473350766642e-08\n",
      "9.607602472587147e-07\n",
      "5.249122210740583e-07\n",
      "4.02503896152226e-05\n",
      "-0.002849307305128244\n",
      "1.672247293813062e-05\n",
      "8.288321733013965e-06\n",
      "2.5724114227749563e-08\n",
      "1.6296195061670986e-05\n",
      "3.787688740178197e-09\n",
      "3.9211452910511605e-07\n",
      "-2.936827127262568e-08\n",
      "1.981671529498583e-07\n",
      "8.065175984127797e-08\n",
      "6.81054789782866e-08\n",
      "3.2318759143876624e-06\n",
      "4.775493430404203e-06\n",
      "8.024810622332651e-07\n",
      "6.483754961347048e-07\n",
      "7.072804627765317e-08\n",
      "8.659687984124003e-08\n",
      "7.532578103718289e-07\n",
      "-9.039698546734682e-06\n",
      "1.5267880830040405e-07\n",
      "5.891371051387106e-08\n",
      "1.6915959759145514e-08\n",
      "4.268519550205322e-08\n"
     ]
    }
   ],
   "source": [
    "for sa, sb in zip(a, b):\n",
    "    print((sa.image_sigma_fg- sb.image_sigma_fg)/sa.image_sigma_fg)"
   ]
  },
  {
   "cell_type": "code",
   "execution_count": 26,
   "id": "3b91e5c8-1f39-4647-9dc9-d47cdfadc6d8",
   "metadata": {},
   "outputs": [
    {
     "data": {
      "image/png": "[encoded data removed]",
      "text/plain": [
       "<Figure size 720x480 with 1 Axes>"
      ]
     },
     "metadata": {},
     "output_type": "display_data"
    }
   ],
   "source": [
    "# plot Vela, W28 W50\n",
    "fig, ax = plt.subplots()\n",
    "\n",
    "colors = [ plt.get_cmap('plasma')(x) for x in [0.0, 0.7, 0.87] ]\n",
    "\n",
    "for i, name in enumerate(['Vela', 'W28', 'W50']):\n",
    "    snr = get_snr(name, snr_valid_SG_list)\n",
    "    t_s = np.logspace(np.log10(10), np.log10(snr.t_now), 50) # [yr]\n",
    "    L_s = [4*np.pi * (snr.d*kpc)**2 * 1e-23 * snr.Snu_t_fl(1000, t, tiop='2') for t in t_s]\n",
    "    ax.plot(t_s, L_s, label=name, color=colors[i], lw=2)\n",
    "ax.set(xscale='log', yscale='log')\n",
    "ax.set(xlabel='Time [yr]', ylabel='Luminosity [erg/s/Hz]')\n",
    "ax.legend();"
   ]
  },
  {
   "cell_type": "code",
   "execution_count": 32,
   "id": "f47f2ca4-d42c-4434-a402-1e115d818baa",
   "metadata": {},
   "outputs": [
    {
     "data": {
      "text/plain": [
       "5.211845831087532e-05"
      ]
     },
     "execution_count": 32,
     "metadata": {},
     "output_type": "execute_result"
    }
   ],
   "source": [
    "# expected gegenschein flux\n",
    "get_snr('Vela', snr_valid_SG_list).Sgnu(1000)"
   ]
  }
 ],
 "metadata": {
  "kernelspec": {
   "display_name": "Python 3 (ipykernel)",
   "language": "python",
   "name": "python3"
  },
  "language_info": {
   "codemirror_mode": {
    "name": "ipython",
    "version": 3
   },
   "file_extension": ".py",
   "mimetype": "text/x-python",
   "name": "python",
   "nbconvert_exporter": "python",
   "pygments_lexer": "ipython3",
   "version": "3.10.5"
  }
 },
 "nbformat": 4,
 "nbformat_minor": 5
}
