{
 "cells": [
  {
   "cell_type": "code",
   "execution_count": 2,
   "metadata": {},
   "outputs": [],
   "source": [
    "%reload_ext autoreload\n",
    "%autoreload 2\n",
    "\n",
    "import os\n",
    "import sys\n",
    "\n",
    "import numpy as np\n",
    "import astropy.units as u\n",
    "import astropy.constants as const"
   ]
  },
  {
   "cell_type": "markdown",
   "metadata": {},
   "source": [
    "## Sensitivity"
   ]
  },
  {
   "cell_type": "markdown",
   "metadata": {},
   "source": [
    "### A. CHIME"
   ]
  },
  {
   "cell_type": "code",
   "execution_count": 9,
   "metadata": {},
   "outputs": [
    {
     "data": {
      "text/latex": [
       "$[17.176843,~8.5884213] \\; \\mathrm{min}$"
      ],
      "text/plain": [
       "<Quantity [17.17684257,  8.58842129] min>"
      ]
     },
     "execution_count": 9,
     "metadata": {},
     "output_type": "execute_result"
    }
   ],
   "source": [
    "lmd = const.c / (np.array([400, 800])*u.MHz)\n",
    "eta_a = 0.5\n",
    "theta_primary = lmd / (eta_a * 20*u.m)\n",
    "tobs = 24*u.hour * (theta_primary) / (2*np.pi)\n",
    "tobs.to('min')"
   ]
  },
  {
   "cell_type": "markdown",
   "metadata": {},
   "source": [
    "### B. HERA"
   ]
  },
  {
   "cell_type": "code",
   "execution_count": 14,
   "metadata": {},
   "outputs": [
    {
     "name": "stdout",
     "output_type": "stream",
     "text": [
      "184.60197507069094 m2\n",
      "153.93804002589985 m2\n",
      "0.8338916198862513\n"
     ]
    }
   ],
   "source": [
    "A_hex = np.sqrt(3) / 2 * (14.6 * u.m)**2\n",
    "A_dish = np.pi / 4 * (14 * u.m)**2\n",
    "print(A_hex)\n",
    "print(A_dish)\n",
    "print(A_dish/A_hex)"
   ]
  },
  {
   "cell_type": "code",
   "execution_count": 17,
   "metadata": {},
   "outputs": [
    {
     "data": {
      "text/latex": [
       "$243.04862 \\; \\mathrm{m}$"
      ],
      "text/plain": [
       "<Quantity 243.0486207 m>"
      ]
     },
     "execution_count": 17,
     "metadata": {},
     "output_type": "execute_result"
    }
   ],
   "source": [
    "D_side = np.sqrt(320 * A_hex)\n",
    "D_side"
   ]
  },
  {
   "cell_type": "code",
   "execution_count": 21,
   "metadata": {},
   "outputs": [
    {
     "data": {
      "text/latex": [
       "$11.561631 \\; \\mathrm{{}^{\\circ}}$"
      ],
      "text/plain": [
       "<Quantity 11.56163108 deg>"
      ]
     },
     "execution_count": 21,
     "metadata": {},
     "output_type": "execute_result"
    }
   ],
   "source": [
    "lmd = const.c / (137*u.MHz)\n",
    "eta_a = 0.6\n",
    "theta_primary = lmd / (np.sqrt(eta_a) * 14*u.m) * u.rad\n",
    "theta_primary.to(u.deg)"
   ]
  },
  {
   "cell_type": "code",
   "execution_count": 19,
   "metadata": {},
   "outputs": [
    {
     "data": {
      "text/latex": [
       "$[147.36889,~29.473778] \\; \\mathrm{min}$"
      ],
      "text/plain": [
       "<Quantity [147.36889209,  29.47377842] min>"
      ]
     },
     "execution_count": 19,
     "metadata": {},
     "output_type": "execute_result"
    }
   ],
   "source": [
    "lmd = const.c / (np.array([50, 250])*u.MHz)\n",
    "eta_a = 0.6\n",
    "theta_primary = lmd / (np.sqrt(eta_a) * 14*u.m)\n",
    "tobs = 24*u.hour * (theta_primary) / (2*np.pi * np.cos(np.deg2rad(30.7)))\n",
    "tobs.to('min')"
   ]
  },
  {
   "cell_type": "markdown",
   "metadata": {},
   "source": [
    "### C. CHORD"
   ]
  },
  {
   "cell_type": "code",
   "execution_count": 26,
   "metadata": {},
   "outputs": [
    {
     "data": {
      "text/plain": [
       "0.4487989505128276"
      ]
     },
     "execution_count": 26,
     "metadata": {},
     "output_type": "execute_result"
    }
   ],
   "source": [
    "np.pi / 4 * 6 * 6 / 63"
   ]
  },
  {
   "cell_type": "markdown",
   "metadata": {},
   "source": [
    "### D. BURSTT"
   ]
  },
  {
   "cell_type": "code",
   "execution_count": 4,
   "metadata": {},
   "outputs": [
    {
     "data": {
      "text/plain": [
       "58.631921824104225"
      ]
     },
     "execution_count": 4,
     "metadata": {},
     "output_type": "execute_result"
    }
   ],
   "source": [
    "fwhm = 50 / 307 * 2 * np.pi\n",
    "np.rad2deg(fwhm)"
   ]
  },
  {
   "cell_type": "code",
   "execution_count": 9,
   "metadata": {},
   "outputs": [
    {
     "data": {
      "text/latex": [
       "$0.73240148 \\; \\mathrm{m}$"
      ],
      "text/plain": [
       "<Quantity 0.73240148 m>"
      ]
     },
     "execution_count": 9,
     "metadata": {},
     "output_type": "execute_result"
    }
   ],
   "source": [
    "nu_ref = 400 * u.MHz\n",
    "lmd = const.c / nu_ref\n",
    "baseline = lmd / fwhm\n",
    "baseline.to(u.m)"
   ]
  },
  {
   "cell_type": "code",
   "execution_count": 11,
   "metadata": {},
   "outputs": [
    {
     "data": {
      "text/latex": [
       "$0.13410298 \\; \\mathrm{}$"
      ],
      "text/plain": [
       "<Quantity 0.13410298>"
      ]
     },
     "execution_count": 11,
     "metadata": {},
     "output_type": "execute_result"
    }
   ],
   "source": [
    "eta = baseline**2 / (2*u.m)**2\n",
    "eta.decompose()"
   ]
  },
  {
   "cell_type": "code",
   "execution_count": 12,
   "metadata": {},
   "outputs": [
    {
     "data": {
      "text/latex": [
       "$2 \\; \\mathrm{m}$"
      ],
      "text/plain": [
       "<Quantity 2. m>"
      ]
     },
     "execution_count": 12,
     "metadata": {},
     "output_type": "execute_result"
    }
   ],
   "source": [
    "baseline / np.sqrt(eta)"
   ]
  },
  {
   "cell_type": "code",
   "execution_count": 13,
   "metadata": {},
   "outputs": [
    {
     "data": {
      "text/plain": [
       "45.254833995939045"
      ]
     },
     "execution_count": 13,
     "metadata": {},
     "output_type": "execute_result"
    }
   ],
   "source": [
    "np.sqrt(2048)"
   ]
  },
  {
   "cell_type": "code",
   "execution_count": null,
   "metadata": {},
   "outputs": [],
   "source": []
  }
 ],
 "metadata": {
  "kernelspec": {
   "display_name": "torch",
   "language": "python",
   "name": "python3"
  },
  "language_info": {
   "codemirror_mode": {
    "name": "ipython",
    "version": 3
   },
   "file_extension": ".py",
   "mimetype": "text/x-python",
   "name": "python",
   "nbconvert_exporter": "python",
   "pygments_lexer": "ipython3",
   "version": "3.11.4"
  },
  "orig_nbformat": 4
 },
 "nbformat": 4,
 "nbformat_minor": 2
}
