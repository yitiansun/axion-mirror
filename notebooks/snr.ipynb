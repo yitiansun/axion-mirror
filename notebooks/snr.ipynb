{
 "cells": [
  {
   "cell_type": "code",
   "execution_count": 1,
   "id": "a20734e5",
   "metadata": {
    "tags": []
   },
   "outputs": [],
   "source": [
    "%reload_ext autoreload\n",
    "%autoreload 2\n",
    "import os, sys\n",
    "sys.path.append('..')\n",
    "\n",
    "from tqdm import tqdm\n",
    "import csv\n",
    "import datetime\n",
    "import warnings\n",
    "\n",
    "import numpy as np\n",
    "from scipy.integrate import IntegrationWarning\n",
    "\n",
    "%matplotlib inline\n",
    "import matplotlib as mpl\n",
    "import matplotlib.pyplot as plt\n",
    "from matplotlib import colormaps as cms\n",
    "mpl.rc_file('../matplotlibrc')"
   ]
  },
  {
   "cell_type": "code",
   "execution_count": 2,
   "id": "200bebf7",
   "metadata": {
    "tags": []
   },
   "outputs": [],
   "source": [
    "from aatw.snr import *\n",
    "from aatw.spectral import *\n",
    "from aatw.nfw import rho_NFW\n",
    "from aatw.graveyard import *\n",
    "from aatw.geometry import Glbd\n",
    "from aatw.stats import bounded_sample"
   ]
  },
  {
   "cell_type": "markdown",
   "id": "41a51c1d",
   "metadata": {},
   "source": [
    "## 1. Download"
   ]
  },
  {
   "cell_type": "code",
   "execution_count": null,
   "id": "0effb162",
   "metadata": {
    "tags": []
   },
   "outputs": [],
   "source": [
    "! wget \"http://snrcat.physics.umanitoba.ca/SNRdownload.php?table=SNR\" -O ../data/snr/SNRcat-SNR.csv\n",
    "! wget \"http://snrcat.physics.umanitoba.ca/SNRdownload.php?table=SNR\" -O ../data/snr/SNRcat-OBS.csv"
   ]
  },
  {
   "cell_type": "code",
   "execution_count": null,
   "id": "f28a3deb",
   "metadata": {},
   "outputs": [],
   "source": [
    "# removed first 2 lines of the files\n",
    "date_str = datetime.date.today().strftime(\"%Y%m%d\")\n",
    "for tag in ['SNR', 'OBS']:\n",
    "    reader = csv.reader(open(f'../data/snr/SNRcat-{tag}.csv', 'r'), delimiter=';')\n",
    "    next(reader); next(reader)\n",
    "    writer = csv.writer(open(f'../data/snr/SNRcat{date_str}-{tag}_dehead.csv', 'w'), delimiter=';')\n",
    "    writer.writerows(reader)"
   ]
  },
  {
   "cell_type": "markdown",
   "id": "dde8aa55",
   "metadata": {},
   "source": [
    "## 2. Filter valid SNR"
   ]
  },
  {
   "cell_type": "markdown",
   "id": "52b6c1cc",
   "metadata": {},
   "source": [
    "### 2.1 Valid SNR from SNRcat"
   ]
  },
  {
   "cell_type": "code",
   "execution_count": 3,
   "id": "86e6c490",
   "metadata": {},
   "outputs": [],
   "source": [
    "date_str = '20230426'"
   ]
  },
  {
   "cell_type": "code",
   "execution_count": 5,
   "id": "7a1ef201",
   "metadata": {},
   "outputs": [
    {
     "name": "stdout",
     "output_type": "stream",
     "text": [
      "|..|..|..............|...||.|...........|............||...|.....|..||.....|.|..|..|....|.||..|...|....|.|.||...|||.|...|.|.|.|||||..|.....|||...|..|..|||..|.|.||||..|..|...||.||||.||..||......|..|.||..|.|.|||....||..|.||..||...|....|.|||..||.||..|.....||.|.|...|...|......|....|..|....|....|...||.|....|....||.|...|...|||..|.||..........|....|||.|...|.......||...|..|....|......|.|..\n",
      "d t_now info valid = 130. total = 383.\n"
     ]
    }
   ],
   "source": [
    "snr_list = []\n",
    "n_d_t_valid = 0\n",
    "\n",
    "with open(f'../data/snr/SNRcat{date_str}-SNR_dehead.csv', 'r') as csvf:\n",
    "    csv_reader = csv.DictReader(csvf, delimiter=';')\n",
    "    \n",
    "    for i, row in enumerate(csv_reader):\n",
    "        \n",
    "        if row['G'] == 'G358.1+00.1':\n",
    "            row['G'] = 'G358.1+01.0' # error in SNRcat\n",
    "            \n",
    "        snr = SNR(\n",
    "            ID = row['G'],\n",
    "            name_alt = row['id_alt'],\n",
    "            snr_type = row['type'],\n",
    "            l = float(row['G'][1:6]) * deg,\n",
    "            b = float(row['G'][6:11]) * deg,\n",
    "            size = float(row['size_coarse (arcmin)']) * arcmin,\n",
    "            snrcat_dict = row\n",
    "        )\n",
    "        \n",
    "        d_min = row['distance_min (kpc)'] # must have dist min & max\n",
    "        d_max = row['distance_max (kpc)']\n",
    "        t_now_min = row['age_min (yr)'] # must have age min & max\n",
    "        t_now_max = row['age_max (yr)']\n",
    "        \n",
    "        snr.d_min = float(d_min) if d_min != '' else None\n",
    "        snr.d_max = float(d_max) if d_max != '' else None\n",
    "        snr.t_now_min = float(t_now_min) if t_now_min != '' else None\n",
    "        snr.t_now_max = float(t_now_max) if t_now_max != '' else None\n",
    "        \n",
    "        if snr.d_min is not None and snr.d_max is not None:\n",
    "            snr.d = np.sqrt(snr.d_min * snr.d_max)\n",
    "        else:\n",
    "            snr.d = None\n",
    "            \n",
    "        if snr.t_now_min is not None and snr.t_now_max is not None:\n",
    "            snr.t_now = np.sqrt(snr.t_now_min * snr.t_now_max)\n",
    "        else:\n",
    "            snr.t_now = None\n",
    "        \n",
    "        snr_list.append(snr)\n",
    "        \n",
    "        if snr.d is not None and snr.t_now is not None:\n",
    "            print('|', end='', flush=True)\n",
    "            n_d_t_valid += 1\n",
    "        else:\n",
    "            print('.', end='', flush=True)\n",
    "print(f'\\nd t_now info valid = {n_d_t_valid}. total = {len(snr_list)}.')"
   ]
  },
  {
   "cell_type": "markdown",
   "id": "dd404a56",
   "metadata": {},
   "source": [
    "### 2.2 Valid SNR from Green's catalog\n",
    "Requires SNR to have flux information. Copy [this page](https://www.mrao.cam.ac.uk/surveys/snrs/snrs.data.html) to `../data/SNR/Green.txt`"
   ]
  },
  {
   "cell_type": "code",
   "execution_count": 6,
   "id": "1ced39f7",
   "metadata": {},
   "outputs": [
    {
     "name": "stdout",
     "output_type": "stream",
     "text": [
      "..............................................................................................................................................................................................................................................................................................................................................................................................."
     ]
    }
   ],
   "source": [
    "for snr in snr_list:\n",
    "    print(('.' if snr.Snu1GHz is None else '|'), end='')"
   ]
  },
  {
   "cell_type": "code",
   "execution_count": 7,
   "id": "18aec931",
   "metadata": {
    "tags": []
   },
   "outputs": [
    {
     "name": "stdout",
     "output_type": "stream",
     "text": [
      "can't find: None.\n",
      "\n",
      "G000.9+00.1 varies \n",
      "G006.4-00.1 varies W28\n",
      "G021.5-00.9 varies \n",
      "G027.8+00.6 varies \n",
      "G031.9+00.0 varies 3C391\n",
      "G033.2-00.6 varies \n",
      "G065.7+01.2 varies DA 495\n",
      "G069.0+02.7 varies CTB 80\n",
      "G074.0-08.5 varies Cygnus Loop\n",
      "G074.9+01.2 varies CTB 87\n",
      "G180.0-01.7 varies S147\n",
      "G263.9-03.3 varies Vela (XYZ)\n",
      "G326.3-01.8 varies MSH 15-56\n",
      "G354.1+00.1 varies \n"
     ]
    }
   ],
   "source": [
    "varied_str = ''\n",
    "cant_find_str = ''\n",
    "\n",
    "with open('../data/snr/Green.txt') as f:\n",
    "    lines = f.readlines()\n",
    "    for i, line in enumerate(lines[4:]):\n",
    "        line_strs = list(filter(None,line.split(' ')))\n",
    "        green_dict = {}\n",
    "        green_dict['ID'] = GID(line_strs[0], line_strs[1])\n",
    "        green_dict['name_oth'] = '' if len(line_strs)<=11 else ' '.join(line_strs[11:]).replace('\\n', '')\n",
    "        green_dict['size_str'] = line_strs[7]\n",
    "        green_dict['type'] = line_strs[8]\n",
    "        green_dict['Snu1GHz'] = line_strs[9]\n",
    "        green_dict['spec_ind'] = line_strs[10].replace('\\n', '')\n",
    "        \n",
    "        snr = get_snr(green_dict['ID'], snr_list)\n",
    "        snr.green_dict = green_dict\n",
    "        \n",
    "        Snu1GHz_str = green_dict['Snu1GHz'].replace('?','').replace('>','')\n",
    "        if Snu1GHz_str != '':\n",
    "            snr.Snu1GHz = float(Snu1GHz_str)\n",
    "        \n",
    "        si_str = green_dict['spec_ind'].replace('?','')\n",
    "        if si_str != '':\n",
    "            try:\n",
    "                snr.si = float(si_str)\n",
    "            except ValueError:\n",
    "                snr.si = None\n",
    "                varied_str += '\\n'+green_dict['ID']+' '+green_dict['spec_ind']+' '+green_dict['name_oth']\n",
    "        \n",
    "    if cant_find_str == '':\n",
    "        cant_find_str = 'None.'\n",
    "    print('can\\'t find: '+cant_find_str)\n",
    "    print(varied_str)"
   ]
  },
  {
   "cell_type": "code",
   "execution_count": 8,
   "id": "86ed9de6",
   "metadata": {},
   "outputs": [
    {
     "name": "stdout",
     "output_type": "stream",
     "text": [
      "|.|||||||||||||.||||.||||.|||||||||.||||||||||||.||||||||||||||.|.|||||.|.|||.||..|||..|||..|||||||.|.|||.||.||.|||||||||.||.||||||||.|.|||||...|.|||.|||.||.|||..||||||.|..||||||||||.||......||..|.|.|||.|||..|...|||.||||..|.|..|.|.||.|||||||.|||||.|||.|||||||.|..|.|||...|||||.||.|..||.|..|....||||||||||..|||.|..|.|..||||.||||||||||.||.|..|.|||||..||||..||||||...|||||||||||.|.|||..\n",
      "|.|.|.|||||||||.||||..|||.|||||||||.||||||||||||.||||||||||||||.|.|||||.|..||.||..|||..|..|.||||..|...|.|.||.||.||||..|||.||.||||||||...||||....|.|.|.|....|.|||||||||||.|..||||||||||.||......||..|.|.||.||||..|...|||.||.|..|.|..|...||.||||.||.||||....|.||..|||......||....||.|...|.|..|..|..|.......|.||.||..|||.|..|.|..|.||.||..|||||..||.|....|.|||...|||..||.|.|......||..||.....|.|.."
     ]
    }
   ],
   "source": [
    "for snr in snr_list:\n",
    "    print(('.' if snr.Snu1GHz is None else '|'), end='')\n",
    "print()\n",
    "for snr in snr_list:\n",
    "    print(('.' if snr.si is None else '|'), end='')"
   ]
  },
  {
   "cell_type": "markdown",
   "id": "b501007e",
   "metadata": {},
   "source": [
    "### 2.3 Individual changes"
   ]
  },
  {
   "cell_type": "code",
   "execution_count": 9,
   "id": "0093504b",
   "metadata": {},
   "outputs": [],
   "source": [
    "snr = get_snr('G263.9-03.3', snr_list)\n",
    "snr.name_alt = 'Vela'\n",
    "snr.si = (2.47-1)/2 # fiducial: 2.47\n",
    "snr.t_now = 12000 # fiducial: 10000-12000-14000\n",
    "snr.d = 0.287 # kpc\n",
    "snr.Snu1GHz = 670\n",
    "\n",
    "snr = get_snr('G006.4-00.1', snr_list)\n",
    "snr.name_alt = 'W28'\n",
    "snr.si = 0.42 # Kassim 1992 | 330 MHz VLA OBSERVATIONS OF 20 GALACTIC SUPERNOVA REMNANTS\n",
    "# density # https://arxiv.org/pdf/1805.03372.pdf, Reach et al 2005\n",
    "snr.t_now = 34467 # yr\n",
    "snr.d = 1.876 # kpc\n",
    "\n",
    "snr = get_snr('G039.7-02.0', snr_list)\n",
    "snr.name_alt = 'W50'\n",
    "snr.t_now = 54772 # fiducial: 30000-54772-100000\n",
    "snr.d = 4.77 # kpc\n",
    "snr.si = 0.7 # fiducial: 0.7\n",
    "\n",
    "snr = get_snr('G326.3-01.8', snr_list)\n",
    "snr.name_alt = 'MSH 15-56'\n",
    "snr.si = 0.34 # RADIO EMISSION FROM THE COMPOSITE SUPERNOVA REMNANT G326.3-1.8 (MSH 15-56)"
   ]
  },
  {
   "cell_type": "code",
   "execution_count": 10,
   "id": "9630fc34",
   "metadata": {},
   "outputs": [],
   "source": [
    "dump_snr_list(snr_list, \"../outputs/snr/prebuild_snr_list.json\")"
   ]
  },
  {
   "cell_type": "markdown",
   "id": "1620fa87",
   "metadata": {},
   "source": [
    "## 3. Full info list and partial info list"
   ]
  },
  {
   "cell_type": "code",
   "execution_count": 11,
   "id": "85a36f04",
   "metadata": {},
   "outputs": [],
   "source": [
    "snr_list = load_snr_list(\"../outputs/snr/prebuild_snr_list.json\")"
   ]
  },
  {
   "cell_type": "code",
   "execution_count": 12,
   "id": "30c3ffd7",
   "metadata": {},
   "outputs": [
    {
     "name": "stdout",
     "output_type": "stream",
     "text": [
      "full info: 94. partial info: 289.\n"
     ]
    }
   ],
   "source": [
    "snr_list_fullinfo = []\n",
    "snr_list_partialinfo = []\n",
    "\n",
    "for snr in snr_list:\n",
    "    v = np.array([snr.d, snr.t_now, snr.Snu1GHz, snr.si])\n",
    "    if np.all(v != None):\n",
    "        snr_list_fullinfo.append(snr)\n",
    "    else:\n",
    "        snr_list_partialinfo.append(snr)\n",
    "\n",
    "dump_snr_list(snr_list_fullinfo, \"../outputs/snr/prebuild_snr_list_fullinfo.json\")\n",
    "dump_snr_list(snr_list_partialinfo, \"../outputs/snr/prebuild_snr_list_partialinfo.json\")\n",
    "print(f'full info: {len(snr_list_fullinfo)}. partial info: {len(snr_list_partialinfo)}.')"
   ]
  },
  {
   "cell_type": "markdown",
   "id": "3e40d13d",
   "metadata": {},
   "source": [
    "### 3.1 Build fullinfo list"
   ]
  },
  {
   "cell_type": "code",
   "execution_count": null,
   "id": "45b43bd1",
   "metadata": {},
   "outputs": [],
   "source": [
    "# build without lightcurve\n",
    "for snr in tqdm(snr_list_fullinfo):\n",
    "    snr.t_MFA = 100 # [yr]\n",
    "    snr.t_free = 300 # [yr]\n",
    "    snr.build(rho_DM=rho_NFW, tiop='2')\n",
    "dump_snr_list(snr_list_fullinfo, f\"../outputs/snr/snr-fullinfo-nolightcurve.json\")"
   ]
  },
  {
   "cell_type": "code",
   "execution_count": 13,
   "id": "c459a1a0",
   "metadata": {},
   "outputs": [
    {
     "name": "stderr",
     "output_type": "stream",
     "text": [
      "100%|███████████████████████████████████████████████████████████████████████████████████████████████████████████████████████████████████████████████████████████| 100/100 [00:42<00:00,  2.37it/s]\n"
     ]
    }
   ],
   "source": [
    "# build with lightcurve\n",
    "for i_sample in tqdm(range(100)):\n",
    "    \n",
    "    snr_list_fullinfo = load_snr_list(\"../outputs/snr/prebuild_snr_list_fullinfo.json\")\n",
    "    for snr in snr_list_fullinfo:\n",
    "        snr.t_pk = sample_t_pk(1).item()\n",
    "        snr.t_free = 300 # [yr]\n",
    "        snr.build(rho_DM=rho_NFW, tiop='2', use_lightcurve=True, infer_lightcurve_from_now=True, integrate_method='trapz')\n",
    "    dump_snr_list(snr_list_fullinfo, f\"../outputs/snr/fullinfo_samples/fullinfo_{i_sample}.json\")"
   ]
  },
  {
   "cell_type": "markdown",
   "id": "e3bb8a62",
   "metadata": {},
   "source": [
    "### 3.2 Sample and build partialinfo list"
   ]
  },
  {
   "cell_type": "code",
   "execution_count": null,
   "id": "6decf686",
   "metadata": {},
   "outputs": [],
   "source": [
    "for i_sample in tqdm(range(100)):\n",
    "    \n",
    "    snr_list_partialinfo = load_snr_list(\"../outputs/snr/prebuild_snr_list_partialinfo.json\")\n",
    "    for snr in snr_list_partialinfo:\n",
    "\n",
    "        if snr.d is None:\n",
    "            d_min = 0. if snr.d_min is None else snr.d_min # [kpc]\n",
    "            d_max = 30. if snr.d_max is None else snr.d_max # [kpc]\n",
    "            snr.d = sample_snr_d(snr_stz_pdf_G_softz, snr.l, snr.b, d_min, d_max).item() # [kpc]\n",
    "\n",
    "        if snr.t_now is None:\n",
    "            if snr.Snu1GHz is None:\n",
    "                # treat like graveyard\n",
    "                t_now_sampler = lambda: np.random.uniform(300, 2e5)\n",
    "            else:\n",
    "                t_now_sampler = lambda: sample_t_now(1).item()\n",
    "            snr.t_now = bounded_sample(t_now_sampler, snr.t_now_min, snr.t_now_max)\n",
    "\n",
    "        if snr.size == 0:\n",
    "            snr.size = sample_size_now(1, t_now=snr.t_now).item()\n",
    "\n",
    "        if snr.si is None or isinstance(snr.si, str):\n",
    "            snr.si = sample_si(1).item()\n",
    "\n",
    "        # Snu1GHz\n",
    "        snr.t_free = 300.\n",
    "        if snr.Snu1GHz is not None:\n",
    "            infer_lightcurve_from_now = True\n",
    "            snr.t_pk = sample_t_pk(1).item()\n",
    "        else:\n",
    "            infer_lightcurve_from_now = False\n",
    "            snr.Snu1GHz_pk = sample_Snu1GHz_pk(1, d=snr.d, si=snr.si).item()\n",
    "            snr.t_pk = sample_t_pk(1).item()\n",
    "\n",
    "        snr.build(integrate_method='trapz',\n",
    "                  use_lightcurve=True, infer_lightcurve_from_now=infer_lightcurve_from_now)\n",
    "    dump_snr_list(snr_list_partialinfo, f\"../outputs/snr/partialinfo_samples/partialinfo_{i_sample}.json\")"
   ]
  },
  {
   "cell_type": "code",
   "execution_count": 18,
   "id": "934f5c0d",
   "metadata": {
    "tags": []
   },
   "outputs": [
    {
     "data": {
      "image/png": "[encoded data removed]",
      "text/plain": [
       "<Figure size 720x480 with 1 Axes>"
      ]
     },
     "metadata": {},
     "output_type": "display_data"
    }
   ],
   "source": [
    "fig, ax = plt.subplots()\n",
    "\n",
    "bins = np.linspace(-17, -3, 40)\n",
    "\n",
    "for i in range(1):\n",
    "    snr_list_fullinfo = load_snr_list(f\"../outputs/snr/fullinfo_samples/fullinfo_{i}.json\")\n",
    "    snr_list_partialinfo = load_snr_list(f\"../outputs/snr/partialinfo_samples/partialinfo_{i}.json\")\n",
    "    ax.hist(np.log10([snr.Sgnu(1000) for snr in snr_list_partialinfo]), bins=bins, histtype='step', color=cms['Blues'](0.7), alpha=1, label=('partialinfo gegenschein' if i==0 else None))\n",
    "    ax.hist(np.log10([snr.Sfgnu(1000) for snr in snr_list_partialinfo]), bins=bins, histtype='step', color=cms['Blues'](0.4), alpha=1, label=('partialinfo front gegenschein' if i==0 else None))\n",
    "    ax.hist(np.log10([snr.Sgnu(1000) for snr in snr_list_fullinfo]), bins=bins, histtype='bar', color=cms['Greys'](0.7), alpha=0.4, label=('fullinfo gegenschein' if i==0 else None))\n",
    "    ax.hist(np.log10([snr.Sfgnu(1000) for snr in snr_list_fullinfo]), bins=bins, histtype='bar', color=cms['Purples'](0.7), alpha=0.4, label=('fullinfo front gegenschein' if i==0 else None))\n",
    "\n",
    "ax.set(xlabel=r'$\\log_{10}S_\\nu(\\mathrm{1GHz})/\\mathrm{Jy}$', ylabel='counts')\n",
    "ax.legend(loc='upper left');"
   ]
  },
  {
   "cell_type": "markdown",
   "id": "1c6021d8",
   "metadata": {},
   "source": [
    "Previous\n",
    "- Different partialinfo sampling.\n",
    "- fullinfo without sampling: $t_\\mathrm{peak}$ taken to be 50 days.\n",
    "\n",
    "![](../outputs/fullinfo_wo_sample_tpk.png)"
   ]
  },
  {
   "cell_type": "markdown",
   "id": "3cc59703",
   "metadata": {},
   "source": [
    "## 3. Build SNR with fiducial values and variations (old)"
   ]
  },
  {
   "cell_type": "code",
   "execution_count": 7,
   "id": "53ca621b",
   "metadata": {},
   "outputs": [],
   "source": [
    "variation_flags = ['none', 'tiop1', 'tMFA_p', 'tMFA_m', 'd_p', 'd_m', 'age_p', 'age_m']"
   ]
  },
  {
   "cell_type": "code",
   "execution_count": 8,
   "id": "f0615280",
   "metadata": {},
   "outputs": [
    {
     "name": "stdout",
     "output_type": "stream",
     "text": [
      "none :\n"
     ]
    },
    {
     "name": "stderr",
     "output_type": "stream",
     "text": [
      "100%|█████████████████████████████████████████████████████████████████████████████████| 102/102 [00:05<00:00, 19.64it/s]\n"
     ]
    }
   ],
   "source": [
    "warnings.filterwarnings('ignore', category=IntegrationWarning)\n",
    "\n",
    "for vflag in ['none']: # Adjust here\n",
    "    \n",
    "    print(vflag, ':')\n",
    "    #snr_list_fullinfo = pickle.load(open('../data/snr/prebuild_snrlist.p', 'rb'))\n",
    "    snr_list_fullinfo = load_snr_list(\"../data/snr/prebuild_snr_list.json\")\n",
    "    \n",
    "    #===== general snr =====\n",
    "    for snr in snr_list_fullinfo:\n",
    "        if isinstance(snr.si, str):\n",
    "            snr.si = 0.5\n",
    "            snr.si_guessed = True\n",
    "        else:\n",
    "            snr.si_guessed = False\n",
    "        snr.t_free = 500 # [yr]\n",
    "        if vflag == 'tMFA_p':\n",
    "            snr.t_MFA = 300 # [yr]\n",
    "        elif vflag == 'tMFA_m':\n",
    "            snr.t_MFA = 30 # [yr]\n",
    "        else:\n",
    "            snr.t_MFA = 100 # [yr]\n",
    "            \n",
    "        # Adjust d and age\n",
    "        if vflag == 'd_p':\n",
    "            snr.d = snr.d_max\n",
    "        elif vflag == 'd_m':\n",
    "            snr.d = snr.d_min\n",
    "            \n",
    "        if vflag == 'age_p':\n",
    "            snr.t_now = snr.t_now_max\n",
    "        elif vflag == 'age_m':\n",
    "            snr.t_now = snr.t_now_min\n",
    "        \n",
    "    #===== individual changes =====\n",
    "    snr = get_snr('G263.9-03.3', snr_list_fullinfo)\n",
    "    snr.name_alt = 'Vela'\n",
    "    snr.si = (2.47-1)/2 # fiducial: 2.47\n",
    "    snr.t_now = 12000 # fiducial: 10000-12000-14000\n",
    "    if vflag == 'age_p':\n",
    "        snr.t_now = 14000\n",
    "    elif vflag == 'age_m':\n",
    "        snr.t_now = 10000\n",
    "    snr.d = 0.287 # kpc\n",
    "    if vflag == 'd_p':\n",
    "        snr.d = 0.287 + 0.019\n",
    "    if vflag == 'd_m':\n",
    "        snr.d = 0.287 - 0.017\n",
    "    snr.Snu1GHz = 670\n",
    "\n",
    "    snr = get_snr('G006.4-00.1', snr_list_fullinfo)\n",
    "    snr.name_alt = 'W28'\n",
    "    snr.si = 0.42 # Kassim 1992 | 330 MHz VLA OBSERVATIONS OF 20 GALACTIC SUPERNOVA REMNANTS\n",
    "    # density # https://arxiv.org/pdf/1805.03372.pdf, Reach et al 2005\n",
    "    snr.t_now = 34467 # yr\n",
    "    if vflag == 'age_p':\n",
    "        snr.t_now = 100000\n",
    "    elif vflag == 'age_m':\n",
    "        snr.t_now = 30000\n",
    "    snr.d = 1.876 # kpc\n",
    "    if vflag == 'd_p':\n",
    "        snr.d = 1.6\n",
    "    if vflag == 'd_m':\n",
    "        snr.d = 2.2\n",
    "\n",
    "    snr = get_snr('G039.7-02.0', snr_list_fullinfo)\n",
    "    snr.name_alt = 'W50'\n",
    "    snr.t_now = 54772 # fiducial: 30000-54772-100000\n",
    "    if vflag == 'age_p':\n",
    "        snr.t_now = 100000\n",
    "    elif vflag == 'age_m':\n",
    "        snr.t_now = 30000\n",
    "    snr.d = 4.77 # kpc\n",
    "    if vflag == 'd_p':\n",
    "        snr.d = 3.5\n",
    "    if vflag == 'd_m':\n",
    "        snr.d = 6.5\n",
    "    snr.si = 0.7 # fiducial: 0.7\n",
    "\n",
    "    snr = get_snr('G326.3-01.8', snr_list_fullinfo)\n",
    "    snr.name_alt = 'MSH 15-56'\n",
    "    snr.si = 0.34 # RADIO EMISSION FROM THE COMPOSITE SUPERNOVA REMNANT G326.3-1.8 (MSH 15-56)\n",
    "    \n",
    "    #===== build =====\n",
    "    if vflag == 'tiop1':\n",
    "        tiop = '1'\n",
    "    else:\n",
    "        tiop = '2'\n",
    "    for snr in tqdm(snr_list_fullinfo):\n",
    "        snr.build(rho_DM=rho_NFW, tiop=tiop)\n",
    "        \n",
    "    #===== save =====\n",
    "    dump_snr_list(snr_list_fullinfo, f\"../data/snr/snrlist_{vflag}.json\")"
   ]
  },
  {
   "cell_type": "markdown",
   "id": "ae9c152b",
   "metadata": {},
   "source": [
    "## Check"
   ]
  },
  {
   "cell_type": "code",
   "execution_count": 10,
   "id": "d95f13a5",
   "metadata": {},
   "outputs": [],
   "source": [
    "a = pickle.load(open(f'../data/snr/snrlist_none.p', 'rb'))\n",
    "b = load_snr_list(\"../data/snr/snrlist_none.json\")"
   ]
  },
  {
   "cell_type": "code",
   "execution_count": null,
   "id": "2da866f6",
   "metadata": {},
   "outputs": [],
   "source": [
    "for sa, sb in zip(a, b):\n",
    "    print((sa.image_sigma_fg- sb.image_sigma_fg)/sa.image_sigma_fg)"
   ]
  },
  {
   "cell_type": "code",
   "execution_count": 13,
   "id": "0e0d3c9b",
   "metadata": {},
   "outputs": [
    {
     "data": {
      "image/png": "[encoded data removed]",
      "text/plain": [
       "<Figure size 720x480 with 1 Axes>"
      ]
     },
     "metadata": {},
     "output_type": "display_data"
    }
   ],
   "source": [
    "# plot Vela, W28 W50\n",
    "fig, ax = plt.subplots()\n",
    "\n",
    "colors = [ plt.get_cmap('plasma')(x) for x in [0.0, 0.7, 0.87] ]\n",
    "\n",
    "for i, name in enumerate(['Vela', 'W28', 'W50']):\n",
    "    snr = get_snr(name, snr_list_fullinfo)\n",
    "    t_s = np.logspace(np.log10(10), np.log10(snr.t_now), 50) # [yr]\n",
    "    L_s = [4*np.pi * (snr.d*kpc)**2 * 1e-23 * snr.Snu_t_fl(1000, t) for t in t_s]\n",
    "    ax.plot(t_s, L_s, label=name, color=colors[i], lw=2)\n",
    "ax.set(xscale='log', yscale='log')\n",
    "ax.set(xlabel='Time [yr]', ylabel='Luminosity [erg/s/Hz]')\n",
    "ax.legend();"
   ]
  },
  {
   "cell_type": "code",
   "execution_count": 14,
   "id": "b75cce8d",
   "metadata": {},
   "outputs": [
    {
     "data": {
      "text/plain": [
       "5.211844228977227e-05"
      ]
     },
     "execution_count": 14,
     "metadata": {},
     "output_type": "execute_result"
    }
   ],
   "source": [
    "# expected gegenschein flux\n",
    "get_snr('Vela', snr_list_fullinfo).Sgnu(1000)"
   ]
  },
  {
   "cell_type": "code",
   "execution_count": null,
   "id": "8f7fa92f",
   "metadata": {},
   "outputs": [],
   "source": []
  }
 ],
 "metadata": {
  "kernelspec": {
   "display_name": "Python 3 (ipykernel)",
   "language": "python",
   "name": "python3"
  },
  "language_info": {
   "codemirror_mode": {
    "name": "ipython",
    "version": 3
   },
   "file_extension": ".py",
   "mimetype": "text/x-python",
   "name": "python",
   "nbconvert_exporter": "python",
   "pygments_lexer": "ipython3",
   "version": "3.10.12"
  }
 },
 "nbformat": 4,
 "nbformat_minor": 5
}
