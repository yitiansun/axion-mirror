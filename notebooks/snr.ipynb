{
 "cells": [
  {
   "cell_type": "code",
   "execution_count": 1,
   "id": "1ce89de4",
   "metadata": {
    "tags": []
   },
   "outputs": [],
   "source": [
    "%reload_ext autoreload\n",
    "%autoreload 2\n",
    "import os, sys\n",
    "sys.path.append('..')\n",
    "\n",
    "from tqdm import tqdm\n",
    "import csv\n",
    "import datetime\n",
    "import warnings\n",
    "\n",
    "import numpy as np\n",
    "from scipy.integrate import IntegrationWarning\n",
    "\n",
    "%matplotlib inline\n",
    "import matplotlib as mpl\n",
    "import matplotlib.pyplot as plt\n",
    "from matplotlib import colormaps as cms\n",
    "mpl.rc_file('../matplotlibrc')"
   ]
  },
  {
   "cell_type": "code",
   "execution_count": 2,
   "id": "13f51bb6",
   "metadata": {
    "tags": []
   },
   "outputs": [
    {
     "name": "stderr",
     "output_type": "stream",
     "text": [
      "No GPU/TPU found, falling back to CPU. (Set TF_CPP_MIN_LOG_LEVEL=0 and rerun for more info.)\n"
     ]
    }
   ],
   "source": [
    "from aatw.snr import *\n",
    "from aatw.spectral import *\n",
    "from aatw.nfw import rho_NFW\n",
    "from aatw.graveyard import sample_snr_stz_G, sample_t_pk, sample_Snu1GHz_pk, sample_size_1kyr, sample_size_now\n",
    "from aatw.geometry import Glbd"
   ]
  },
  {
   "cell_type": "markdown",
   "id": "42e47661",
   "metadata": {},
   "source": [
    "## 1. Download"
   ]
  },
  {
   "cell_type": "code",
   "execution_count": null,
   "id": "a5ccc5cf",
   "metadata": {
    "tags": []
   },
   "outputs": [],
   "source": [
    "! wget \"http://snrcat.physics.umanitoba.ca/SNRdownload.php?table=SNR\" -O ../data/snr/SNRcat-SNR.csv\n",
    "! wget \"http://snrcat.physics.umanitoba.ca/SNRdownload.php?table=SNR\" -O ../data/snr/SNRcat-OBS.csv"
   ]
  },
  {
   "cell_type": "code",
   "execution_count": null,
   "id": "607f43e9",
   "metadata": {},
   "outputs": [],
   "source": [
    "# removed first 2 lines of the files\n",
    "date_str = datetime.date.today().strftime(\"%Y%m%d\")\n",
    "for tag in ['SNR', 'OBS']:\n",
    "    reader = csv.reader(open(f'../data/snr/SNRcat-{tag}.csv', 'r'), delimiter=';')\n",
    "    next(reader); next(reader)\n",
    "    writer = csv.writer(open(f'../data/snr/SNRcat{date_str}-{tag}_dehead.csv', 'w'), delimiter=';')\n",
    "    writer.writerows(reader)"
   ]
  },
  {
   "cell_type": "markdown",
   "id": "ee54fdf8",
   "metadata": {},
   "source": [
    "## 2. Filter valid SNR"
   ]
  },
  {
   "cell_type": "markdown",
   "id": "bf36b6c6",
   "metadata": {},
   "source": [
    "### 2.1 Valid SNR from SNRcat"
   ]
  },
  {
   "cell_type": "code",
   "execution_count": 3,
   "id": "8e3d2440",
   "metadata": {},
   "outputs": [],
   "source": [
    "date_str = '20230426'"
   ]
  },
  {
   "cell_type": "code",
   "execution_count": 4,
   "id": "0b170eff",
   "metadata": {},
   "outputs": [
    {
     "name": "stdout",
     "output_type": "stream",
     "text": [
      "|..|..|..............|...||.|...........|............||...|.....|..||.....|.|..|..|....|.||..|...|....|.|.||...|||.|...|.|.|.|||||..|.....|||...|..|..|||..|.|.||||..|..|...||.||||.||..||......|..|.||..|.|.|||....||..|.||..||...|....|.|||..||.||..|.....||.|.|...|...|......|....|..|....|....|...||.|....|....||.|...|...|||..|.||..........|....|||.|...|.......||...|..|....|......|.|..  (| means full d and t_now information.)\n"
     ]
    }
   ],
   "source": [
    "snr_list = []\n",
    "\n",
    "with open(f'../data/snr/SNRcat{date_str}-SNR_dehead.csv', 'r') as csvf:\n",
    "    csv_reader = csv.DictReader(csvf, delimiter=';')\n",
    "    \n",
    "    for i, row in enumerate(csv_reader):\n",
    "        \n",
    "        if row['G'] == 'G358.1+00.1':\n",
    "            row['G'] = 'G358.1+01.0' # error in SNRcat\n",
    "            \n",
    "        snr = SNR(\n",
    "            ID = row['G'],\n",
    "            name_alt = row['id_alt'],\n",
    "            snr_type = row['type'],\n",
    "            l = float(row['G'][1:6]) * deg,\n",
    "            b = float(row['G'][6:11]) * deg,\n",
    "            size = float(row['size_coarse (arcmin)']) * arcmin,\n",
    "            snrcat_dict = row\n",
    "        )\n",
    "        \n",
    "        d_min = row['distance_min (kpc)'] # must have dist min & max\n",
    "        d_max = row['distance_max (kpc)']\n",
    "        t_now_min = row['age_min (yr)'] # must have age min & max\n",
    "        t_now_max = row['age_max (yr)']\n",
    "        \n",
    "        snr.d_min = float(d_min) if d_min != '' else None\n",
    "        snr.d_max = float(d_max) if d_max != '' else None\n",
    "        snr.t_now_min = float(t_now_min) if t_now_min != '' else None\n",
    "        snr.t_now_max = float(t_now_max) if t_now_max != '' else None\n",
    "        \n",
    "        if snr.d_min is not None:\n",
    "            if snr.d_max is not None:\n",
    "                snr.d = np.sqrt(snr.d_min * snr.d_max)\n",
    "            else:\n",
    "                snr.d = snr.d_min\n",
    "        else:\n",
    "            if snr.d_max is not None:\n",
    "                snr.d = snr.d_max\n",
    "            else:\n",
    "                snr.d = None\n",
    "            \n",
    "        if snr.t_now_min is not None:\n",
    "            if snr.t_now_max is not None:\n",
    "                snr.t_now = np.sqrt(snr.t_now_min * snr.t_now_max)\n",
    "            else:\n",
    "                snr.t_now = snr.t_now_min\n",
    "        else:\n",
    "            if snr.t_now_max is not None:\n",
    "                snr.t_now = snr.t_now_max\n",
    "            else:\n",
    "                snr.t_now = None\n",
    "        \n",
    "        snr_list.append(snr)\n",
    "        if not np.any(np.array([snr.d_min, snr.d_max, snr.t_now_min, snr.t_now_max]) == None):\n",
    "            print('|', end='', flush=True)\n",
    "        else:\n",
    "            print('.', end='', flush=True)\n",
    "print(f'  (| means full d and t_now information.)')"
   ]
  },
  {
   "cell_type": "code",
   "execution_count": 5,
   "id": "2cdd0568",
   "metadata": {},
   "outputs": [
    {
     "name": "stdout",
     "output_type": "stream",
     "text": [
      "OOOO ---- OO-O OOOO OO-- ---- OOOO ---- OO-- ---- OO-- ---- ---- OO-- OO-- OO-- ---- ---- OO-- ---- ---- OOOO OO-- ---- \n",
      "---- OOOO OOOO OO-- OOOO ---- OO-- OO-- ---- OO-- ---- ---- OO-- ---- ---- ---- OOOO ---- ---- ---- OO-- ---- ---- O-OO \n",
      "OO-- OO-- ---- ---- OO-- OOOO OOOO OO-- ---- ---- OOOO ---- ---- ---- ---- OO-- OOOO ---- OO-- OOOO OOOO ---- OO-- OO-- \n",
      "---- ---- OOOO ---- OOOO ---- OO-- OOOO ---- OO-- OOOO OO-- OO-- ---- OO-- OOOO OO-- OOOO OOOO OO-- OO-O OOOO ---- ---- \n",
      "---- OOOO OO-- OO-- OO-- ---- OOOO OO-- OOOO ---- OOOO OOOO ---- ---- ---- OOOO OOOO OOOO OO-- OOOO OO-- OO-- O--- OOOO \n",
      "O--- OOOO OO-- OOOO ---- OOOO OOOO OOOO OOOO OOOO OO-- ---- OOOO ---- OO-- ---- OOO- OO-- OOOO OOOO OOOO OO-- OO-- OO-- \n",
      "OOOO ---- ---- OOOO ---- -O-- OOOO OOOO OOOO O--- OO-- OOOO ---- OOOO ---- OOOO OOOO OOOO OOOO O-OO OO-- OOOO OO-- OOO- \n",
      "OOOO OO-- ---- ---- OOOO OOOO OO-- OOOO OOOO OOOO OOOO OO-- OOOO OOOO ---- OO-O OOOO OOOO ---- ---- OOO- ---- ---- OO-- \n",
      "OOOO ---- ---- OOOO ---- OOOO OOOO OO-- ---- OOOO OO-O OOOO OO-- OOOO OOOO OOOO OO-- --OO ---- ---- OOOO OOOO OO-- ---- \n",
      "OOOO OO-- OOOO OOOO -O-- ---- OOOO OOOO OO-- ---- ---- OOOO OO-- ---- ---- ---- OOOO ---- OOOO OOOO OOOO ---- ---- OOOO \n",
      "OOOO ---- OOOO OOOO ---- OOO- OOOO ---- ---- OO-- ---- OO-- OOOO OOOO ---- OOOO OO-- OOOO OO-- OO-- OO-- OOOO ---- OO-- \n",
      "---- OOOO OO-- ---- OO-- ---- OO-- ---- OOOO OO-- OO-- ---- ---- OOOO OO-- ---- OOOO ---- ---- OO-- ---- OOOO ---- ---- \n",
      "---- ---- OOOO ---- ---- ---- OOOO OOOO OO-- OOOO ---- OO-- O-OO OO-- OOOO O-OO ---- ---- ---- OOOO OOOO ---- OOOO ---O \n",
      "---- OO-- OOOO ---- ---- ---- OOOO OOOO OOOO OO-- O--- OOOO ---- OOOO OOOO ---- OO-- OO-- OO-- OO-- ---- OO-- OO-- ---- \n",
      "---- OOOO ---- ---- ---- ---- OOOO OOOO OOOO OO-- OOOO ---- ---- ---- OOOO ---- OO-O OO-- ---- ---- OO-O ---- OOOO OOOO \n"
     ]
    }
   ],
   "source": [
    "l = ''\n",
    "for snr in snr_list:\n",
    "    s = ''\n",
    "    s += 'O' if snr.d_min is not None else '-'\n",
    "    s += 'O' if snr.d_max is not None else '-'\n",
    "    s += 'O' if snr.t_now_min is not None else '-'\n",
    "    s += 'O' if snr.t_now_max is not None else '-'\n",
    "    l += s + ' '\n",
    "    if len(l) >= 120:\n",
    "        print(l)\n",
    "        l = ''"
   ]
  },
  {
   "cell_type": "markdown",
   "id": "6e682870",
   "metadata": {},
   "source": [
    "### 2.2 Valid SNR from Green's catalog\n",
    "Requires SNR to have flux information. Copy [this page](https://www.mrao.cam.ac.uk/surveys/snrs/snrs.data.html) to `../data/SNR/Green.txt`"
   ]
  },
  {
   "cell_type": "code",
   "execution_count": 6,
   "id": "7f092618",
   "metadata": {},
   "outputs": [
    {
     "name": "stdout",
     "output_type": "stream",
     "text": [
      "..............................................................................................................................................................................................................................................................................................................................................................................................."
     ]
    }
   ],
   "source": [
    "for snr in snr_list:\n",
    "    print(('.' if snr.Snu1GHz is None else '|'), end='')"
   ]
  },
  {
   "cell_type": "code",
   "execution_count": 7,
   "id": "f32b6045",
   "metadata": {
    "tags": []
   },
   "outputs": [
    {
     "name": "stdout",
     "output_type": "stream",
     "text": [
      "can't find: None.\n",
      "\n",
      "G000.9+00.1 varies \n",
      "G006.4-00.1 varies W28\n",
      "G021.5-00.9 varies \n",
      "G027.8+00.6 varies \n",
      "G031.9+00.0 varies 3C391\n",
      "G033.2-00.6 varies \n",
      "G065.7+01.2 varies DA 495\n",
      "G069.0+02.7 varies CTB 80\n",
      "G074.0-08.5 varies Cygnus Loop\n",
      "G074.9+01.2 varies CTB 87\n",
      "G180.0-01.7 varies S147\n",
      "G263.9-03.3 varies Vela (XYZ)\n",
      "G326.3-01.8 varies MSH 15-56\n",
      "G354.1+00.1 varies \n"
     ]
    }
   ],
   "source": [
    "varied_str = ''\n",
    "cant_find_str = ''\n",
    "\n",
    "with open('../data/snr/Green.txt') as f:\n",
    "    lines = f.readlines()\n",
    "    for i, line in enumerate(lines[4:]):\n",
    "        line_strs = list(filter(None,line.split(' ')))\n",
    "        green_dict = {}\n",
    "        green_dict['ID'] = GID(line_strs[0], line_strs[1])\n",
    "        green_dict['name_oth'] = '' if len(line_strs)<=11 else ' '.join(line_strs[11:]).replace('\\n', '')\n",
    "        green_dict['size_str'] = line_strs[7]\n",
    "        green_dict['type'] = line_strs[8]\n",
    "        green_dict['Snu1GHz'] = line_strs[9]\n",
    "        green_dict['spec_ind'] = line_strs[10].replace('\\n', '')\n",
    "        \n",
    "        snr = get_snr(green_dict['ID'], snr_list)\n",
    "        snr.green_dict = green_dict\n",
    "        \n",
    "        Snu1GHz_str = green_dict['Snu1GHz'].replace('?','').replace('>','')\n",
    "        if Snu1GHz_str != '':\n",
    "            snr.Snu1GHz = float(Snu1GHz_str)\n",
    "        \n",
    "        si_str = green_dict['spec_ind'].replace('?','')\n",
    "        if si_str != '':\n",
    "            try:\n",
    "                snr.si = float(si_str)\n",
    "            except ValueError:\n",
    "                snr.si = si_str\n",
    "                varied_str += '\\n'+green_dict['ID']+' '+green_dict['spec_ind']+' '+green_dict['name_oth']\n",
    "        \n",
    "    if cant_find_str == '':\n",
    "        cant_find_str = 'None.'\n",
    "    print('can\\'t find: '+cant_find_str)\n",
    "    print(varied_str)"
   ]
  },
  {
   "cell_type": "code",
   "execution_count": 8,
   "id": "a1132536",
   "metadata": {},
   "outputs": [
    {
     "name": "stdout",
     "output_type": "stream",
     "text": [
      "|.|||||||||||||.||||.||||.|||||||||.||||||||||||.||||||||||||||.|.|||||.|.|||.||..|||..|||..|||||||.|.|||.||.||.|||||||||.||.||||||||.|.|||||...|.|||.|||.||.|||..||||||.|..||||||||||.||......||..|.|.|||.|||..|...|||.||||..|.|..|.|.||.|||||||.|||||.|||.|||||||.|..|.|||...|||||.||.|..||.|..|....||||||||||..|||.|..|.|..||||.||||||||||.||.|..|.|||||..||||..||||||...|||||||||||.|.|||.."
     ]
    }
   ],
   "source": [
    "for snr in snr_list:\n",
    "    print(('.' if snr.Snu1GHz is None else '|'), end='')"
   ]
  },
  {
   "cell_type": "markdown",
   "id": "f1048921",
   "metadata": {},
   "source": [
    "### 2.3 Individual changes"
   ]
  },
  {
   "cell_type": "code",
   "execution_count": 9,
   "id": "25e24987",
   "metadata": {},
   "outputs": [],
   "source": [
    "snr = get_snr('G263.9-03.3', snr_list)\n",
    "snr.name_alt = 'Vela'\n",
    "snr.si = (2.47-1)/2 # fiducial: 2.47\n",
    "snr.t_now = 12000 # fiducial: 10000-12000-14000\n",
    "snr.d = 0.287 # kpc\n",
    "snr.Snu1GHz = 670\n",
    "\n",
    "snr = get_snr('G006.4-00.1', snr_list)\n",
    "snr.name_alt = 'W28'\n",
    "snr.si = 0.42 # Kassim 1992 | 330 MHz VLA OBSERVATIONS OF 20 GALACTIC SUPERNOVA REMNANTS\n",
    "# density # https://arxiv.org/pdf/1805.03372.pdf, Reach et al 2005\n",
    "snr.t_now = 34467 # yr\n",
    "snr.d = 1.876 # kpc\n",
    "\n",
    "snr = get_snr('G039.7-02.0', snr_list)\n",
    "snr.name_alt = 'W50'\n",
    "snr.t_now = 54772 # fiducial: 30000-54772-100000\n",
    "snr.d = 4.77 # kpc\n",
    "snr.si = 0.7 # fiducial: 0.7\n",
    "\n",
    "snr = get_snr('G326.3-01.8', snr_list)\n",
    "snr.name_alt = 'MSH 15-56'\n",
    "snr.si = 0.34 # RADIO EMISSION FROM THE COMPOSITE SUPERNOVA REMNANT G326.3-1.8 (MSH 15-56)"
   ]
  },
  {
   "cell_type": "code",
   "execution_count": 10,
   "id": "a91e1ed4",
   "metadata": {},
   "outputs": [],
   "source": [
    "dump_snr_list(snr_list, \"../outputs/snr/prebuild_snr_list.json\")"
   ]
  },
  {
   "cell_type": "markdown",
   "id": "2ebb33d2",
   "metadata": {},
   "source": [
    "## 3. Full info list and partial info list"
   ]
  },
  {
   "cell_type": "code",
   "execution_count": null,
   "id": "6f100c91",
   "metadata": {},
   "outputs": [],
   "source": [
    "snr_list = load_snr_list(\"../outputs/snr/prebuild_snr_list.json\")"
   ]
  },
  {
   "cell_type": "code",
   "execution_count": 11,
   "id": "9c4b5708",
   "metadata": {},
   "outputs": [
    {
     "name": "stdout",
     "output_type": "stream",
     "text": [
      "Full info 102/383.\n"
     ]
    }
   ],
   "source": [
    "snr_list_fullinfo = []\n",
    "snr_list_partialinfo = []\n",
    "\n",
    "for snr in snr_list:\n",
    "    v = np.array([snr.d_min, snr.d_max, snr.t_now_min, snr.t_now_max, snr.Snu1GHz, snr.si])\n",
    "    if np.all(v != None):\n",
    "        snr_list_fullinfo.append(snr)\n",
    "    else:\n",
    "        snr_list_partialinfo.append(snr)\n",
    "\n",
    "dump_snr_list(snr_list_fullinfo, \"../outputs/snr/prebuild_snr_list_fullinfo.json\")\n",
    "dump_snr_list(snr_list_partialinfo, \"../outputs/snr/prebuild_snr_list_partialinfo.json\")\n",
    "print(f'Full info {len(snr_list_fullinfo)}/{len(snr_list)}.')"
   ]
  },
  {
   "cell_type": "markdown",
   "id": "a19a2249",
   "metadata": {},
   "source": [
    "### 3.1 Build fullinfo list"
   ]
  },
  {
   "cell_type": "code",
   "execution_count": 12,
   "id": "b8686f95",
   "metadata": {},
   "outputs": [
    {
     "name": "stderr",
     "output_type": "stream",
     "text": [
      "100%|█████████████████████████████████████████████████████████████████████████████████| 102/102 [00:06<00:00, 16.54it/s]\n"
     ]
    }
   ],
   "source": [
    "for snr in tqdm(snr_list_fullinfo):\n",
    "    if isinstance(snr.si, str):\n",
    "        snr.si = 0.5\n",
    "    snr.t_MFA = 100 # [yr]\n",
    "    snr.t_free = 300 # [yr]\n",
    "    snr.build(rho_DM=rho_NFW, tiop='2')\n",
    "    \n",
    "dump_snr_list(snr_list_fullinfo, f\"../outputs/snr/snr-fullinfo-nolightcurve.json\")"
   ]
  },
  {
   "cell_type": "code",
   "execution_count": 13,
   "id": "57a309f2",
   "metadata": {},
   "outputs": [
    {
     "name": "stderr",
     "output_type": "stream",
     "text": [
      "100%|█████████████████████████████████████████████████████████████████████████████████| 102/102 [00:09<00:00, 11.09it/s]\n"
     ]
    }
   ],
   "source": [
    "for snr in tqdm(snr_list_fullinfo):\n",
    "    snr.t_pk = 50/365.25 # [yr] | use mean value for now\n",
    "    snr.build(rho_DM=rho_NFW, tiop='2', use_lightcurve=True, infer_lightcurve_from_now=True)\n",
    "dump_snr_list(snr_list_fullinfo, f\"../outputs/snr/snr-fullinfo-lightcurve.json\")"
   ]
  },
  {
   "cell_type": "markdown",
   "id": "ff9d63cf",
   "metadata": {},
   "source": [
    "### 3.2 Sample and build partialinfo list"
   ]
  },
  {
   "cell_type": "code",
   "execution_count": 14,
   "id": "f473562f",
   "metadata": {},
   "outputs": [
    {
     "name": "stderr",
     "output_type": "stream",
     "text": [
      "100%|█████████████████████████████████████████████████████████████████████████████████| 100/100 [02:18<00:00,  1.39s/it]\n"
     ]
    }
   ],
   "source": [
    "for i_sample in tqdm(range(100)):\n",
    "    \n",
    "    snr_list_partialinfo = load_snr_list(\"../outputs/snr/prebuild_snr_list_partialinfo.json\")\n",
    "    for snr in snr_list_partialinfo:\n",
    "\n",
    "        if snr.d is None:\n",
    "            snr.d = Glbd(sample_snr_stz_G(1))[0, 2].item() # [kpc]\n",
    "\n",
    "        if snr.t_now is None:\n",
    "            snr.t_now = np.random.uniform(1e3, 1e5)\n",
    "\n",
    "        if snr.size == 0:\n",
    "            snr.size = sample_size_now(1, t_now=snr.t_now).item()\n",
    "\n",
    "        if snr.si is None or isinstance(snr.si, str):\n",
    "            snr.si = 0.5\n",
    "\n",
    "        # Snu1GHz\n",
    "        snr.t_free = 300.\n",
    "        if snr.Snu1GHz is not None:\n",
    "            infer_lightcurve_from_now = True\n",
    "            snr.t_pk = sample_t_pk(1).item()\n",
    "        else:\n",
    "            infer_lightcurve_from_now = False\n",
    "            snr.Snu1GHz_pk = sample_Snu1GHz_pk(1, d=snr.d, si=snr.si).item()\n",
    "            snr.t_pk = sample_t_pk(1).item()\n",
    "\n",
    "        snr.build(integrate_method='trapz',\n",
    "                  use_lightcurve=True, infer_lightcurve_from_now=infer_lightcurve_from_now)\n",
    "    dump_snr_list(snr_list_partialinfo, f\"../outputs/snr/partialinfo_samples/partialinfo_{i_sample}.json\")"
   ]
  },
  {
   "cell_type": "code",
   "execution_count": 3,
   "id": "d2d2e0d2",
   "metadata": {
    "tags": []
   },
   "outputs": [
    {
     "data": {
      "image/png": "[encoded data removed]",
      "text/plain": [
       "<Figure size 720x480 with 1 Axes>"
      ]
     },
     "metadata": {},
     "output_type": "display_data"
    }
   ],
   "source": [
    "snr_list_fullinfo = load_snr_list(\"../outputs/snr/snr-fullinfo-lightcurve.json\")\n",
    "snr_list_partialinfo = load_snr_list(\"../outputs/snr/partialinfo_samples/partialinfo_0.json\")\n",
    "\n",
    "fig, ax = plt.subplots()\n",
    "\n",
    "bins = np.linspace(-17, -3, 50)\n",
    "\n",
    "ax.hist(np.log10([snr.Sgnu(1000) for snr in snr_list_partialinfo]), bins=bins, histtype='step', color=cms['Blues'](0.7), label='partialinfo gegenschein')\n",
    "ax.hist(np.log10([snr.Sfgnu(1000) for snr in snr_list_partialinfo]), bins=bins, histtype='step', color=cms['Blues'](0.3), label='partialinfo front gegenschein')\n",
    "ax.hist(np.log10([snr.Sgnu(1000) for snr in snr_list_fullinfo]), bins=bins, histtype='bar', color=cms['Greys'](0.7), alpha=0.4, label='fullinfo gegenschein')\n",
    "ax.hist(np.log10([snr.Sfgnu(1000) for snr in snr_list_fullinfo]), bins=bins, histtype='bar', color=cms['Purples'](0.7), alpha=0.4, label='fullinfo front gegenschein')\n",
    "\n",
    "ax.set(xlabel=r'$\\log_{10}S_\\nu(\\mathrm{1GHz})/\\mathrm{Jy}$', ylabel='counts')\n",
    "ax.legend(loc='upper left');"
   ]
  },
  {
   "cell_type": "markdown",
   "id": "a44558b5",
   "metadata": {},
   "source": [
    "## 3. Build SNR with fiducial values and variations (old)"
   ]
  },
  {
   "cell_type": "code",
   "execution_count": 7,
   "id": "89beee45",
   "metadata": {},
   "outputs": [],
   "source": [
    "variation_flags = ['none', 'tiop1', 'tMFA_p', 'tMFA_m', 'd_p', 'd_m', 'age_p', 'age_m']"
   ]
  },
  {
   "cell_type": "code",
   "execution_count": 8,
   "id": "b39ad6d4",
   "metadata": {},
   "outputs": [
    {
     "name": "stdout",
     "output_type": "stream",
     "text": [
      "none :\n"
     ]
    },
    {
     "name": "stderr",
     "output_type": "stream",
     "text": [
      "100%|█████████████████████████████████████████████████████████████████████████████████| 102/102 [00:05<00:00, 19.64it/s]\n"
     ]
    }
   ],
   "source": [
    "warnings.filterwarnings('ignore', category=IntegrationWarning)\n",
    "\n",
    "for vflag in ['none']: # Adjust here\n",
    "    \n",
    "    print(vflag, ':')\n",
    "    #snr_list_fullinfo = pickle.load(open('../data/snr/prebuild_snrlist.p', 'rb'))\n",
    "    snr_list_fullinfo = load_snr_list(\"../data/snr/prebuild_snr_list.json\")\n",
    "    \n",
    "    #===== general snr =====\n",
    "    for snr in snr_list_fullinfo:\n",
    "        if isinstance(snr.si, str):\n",
    "            snr.si = 0.5\n",
    "            snr.si_guessed = True\n",
    "        else:\n",
    "            snr.si_guessed = False\n",
    "        snr.t_free = 500 # [yr]\n",
    "        if vflag == 'tMFA_p':\n",
    "            snr.t_MFA = 300 # [yr]\n",
    "        elif vflag == 'tMFA_m':\n",
    "            snr.t_MFA = 30 # [yr]\n",
    "        else:\n",
    "            snr.t_MFA = 100 # [yr]\n",
    "            \n",
    "        # Adjust d and age\n",
    "        if vflag == 'd_p':\n",
    "            snr.d = snr.d_max\n",
    "        elif vflag == 'd_m':\n",
    "            snr.d = snr.d_min\n",
    "            \n",
    "        if vflag == 'age_p':\n",
    "            snr.t_now = snr.t_now_max\n",
    "        elif vflag == 'age_m':\n",
    "            snr.t_now = snr.t_now_min\n",
    "        \n",
    "    #===== individual changes =====\n",
    "    snr = get_snr('G263.9-03.3', snr_list_fullinfo)\n",
    "    snr.name_alt = 'Vela'\n",
    "    snr.si = (2.47-1)/2 # fiducial: 2.47\n",
    "    snr.t_now = 12000 # fiducial: 10000-12000-14000\n",
    "    if vflag == 'age_p':\n",
    "        snr.t_now = 14000\n",
    "    elif vflag == 'age_m':\n",
    "        snr.t_now = 10000\n",
    "    snr.d = 0.287 # kpc\n",
    "    if vflag == 'd_p':\n",
    "        snr.d = 0.287 + 0.019\n",
    "    if vflag == 'd_m':\n",
    "        snr.d = 0.287 - 0.017\n",
    "    snr.Snu1GHz = 670\n",
    "\n",
    "    snr = get_snr('G006.4-00.1', snr_list_fullinfo)\n",
    "    snr.name_alt = 'W28'\n",
    "    snr.si = 0.42 # Kassim 1992 | 330 MHz VLA OBSERVATIONS OF 20 GALACTIC SUPERNOVA REMNANTS\n",
    "    # density # https://arxiv.org/pdf/1805.03372.pdf, Reach et al 2005\n",
    "    snr.t_now = 34467 # yr\n",
    "    if vflag == 'age_p':\n",
    "        snr.t_now = 100000\n",
    "    elif vflag == 'age_m':\n",
    "        snr.t_now = 30000\n",
    "    snr.d = 1.876 # kpc\n",
    "    if vflag == 'd_p':\n",
    "        snr.d = 1.6\n",
    "    if vflag == 'd_m':\n",
    "        snr.d = 2.2\n",
    "\n",
    "    snr = get_snr('G039.7-02.0', snr_list_fullinfo)\n",
    "    snr.name_alt = 'W50'\n",
    "    snr.t_now = 54772 # fiducial: 30000-54772-100000\n",
    "    if vflag == 'age_p':\n",
    "        snr.t_now = 100000\n",
    "    elif vflag == 'age_m':\n",
    "        snr.t_now = 30000\n",
    "    snr.d = 4.77 # kpc\n",
    "    if vflag == 'd_p':\n",
    "        snr.d = 3.5\n",
    "    if vflag == 'd_m':\n",
    "        snr.d = 6.5\n",
    "    snr.si = 0.7 # fiducial: 0.7\n",
    "\n",
    "    snr = get_snr('G326.3-01.8', snr_list_fullinfo)\n",
    "    snr.name_alt = 'MSH 15-56'\n",
    "    snr.si = 0.34 # RADIO EMISSION FROM THE COMPOSITE SUPERNOVA REMNANT G326.3-1.8 (MSH 15-56)\n",
    "    \n",
    "    #===== build =====\n",
    "    if vflag == 'tiop1':\n",
    "        tiop = '1'\n",
    "    else:\n",
    "        tiop = '2'\n",
    "    for snr in tqdm(snr_list_fullinfo):\n",
    "        snr.build(rho_DM=rho_NFW, tiop=tiop)\n",
    "        \n",
    "    #===== save =====\n",
    "    dump_snr_list(snr_list_fullinfo, f\"../data/snr/snrlist_{vflag}.json\")"
   ]
  },
  {
   "cell_type": "markdown",
   "id": "cd4242f3",
   "metadata": {},
   "source": [
    "## Check"
   ]
  },
  {
   "cell_type": "code",
   "execution_count": 10,
   "id": "b91ea19b",
   "metadata": {},
   "outputs": [],
   "source": [
    "a = pickle.load(open(f'../data/snr/snrlist_none.p', 'rb'))\n",
    "b = load_snr_list(\"../data/snr/snrlist_none.json\")"
   ]
  },
  {
   "cell_type": "code",
   "execution_count": null,
   "id": "0f1863f2",
   "metadata": {},
   "outputs": [],
   "source": [
    "for sa, sb in zip(a, b):\n",
    "    print((sa.image_sigma_fg- sb.image_sigma_fg)/sa.image_sigma_fg)"
   ]
  },
  {
   "cell_type": "code",
   "execution_count": 13,
   "id": "8151ca49",
   "metadata": {},
   "outputs": [
    {
     "data": {
      "image/png": "[encoded data removed]",
      "text/plain": [
       "<Figure size 720x480 with 1 Axes>"
      ]
     },
     "metadata": {},
     "output_type": "display_data"
    }
   ],
   "source": [
    "# plot Vela, W28 W50\n",
    "fig, ax = plt.subplots()\n",
    "\n",
    "colors = [ plt.get_cmap('plasma')(x) for x in [0.0, 0.7, 0.87] ]\n",
    "\n",
    "for i, name in enumerate(['Vela', 'W28', 'W50']):\n",
    "    snr = get_snr(name, snr_list_fullinfo)\n",
    "    t_s = np.logspace(np.log10(10), np.log10(snr.t_now), 50) # [yr]\n",
    "    L_s = [4*np.pi * (snr.d*kpc)**2 * 1e-23 * snr.Snu_t_fl(1000, t) for t in t_s]\n",
    "    ax.plot(t_s, L_s, label=name, color=colors[i], lw=2)\n",
    "ax.set(xscale='log', yscale='log')\n",
    "ax.set(xlabel='Time [yr]', ylabel='Luminosity [erg/s/Hz]')\n",
    "ax.legend();"
   ]
  },
  {
   "cell_type": "code",
   "execution_count": 14,
   "id": "a9d16714",
   "metadata": {},
   "outputs": [
    {
     "data": {
      "text/plain": [
       "5.211844228977227e-05"
      ]
     },
     "execution_count": 14,
     "metadata": {},
     "output_type": "execute_result"
    }
   ],
   "source": [
    "# expected gegenschein flux\n",
    "get_snr('Vela', snr_list_fullinfo).Sgnu(1000)"
   ]
  },
  {
   "cell_type": "code",
   "execution_count": null,
   "id": "4e13d515",
   "metadata": {},
   "outputs": [],
   "source": []
  }
 ],
 "metadata": {
  "kernelspec": {
   "display_name": "Python 3 (ipykernel)",
   "language": "python",
   "name": "python3"
  },
  "language_info": {
   "codemirror_mode": {
    "name": "ipython",
    "version": 3
   },
   "file_extension": ".py",
   "mimetype": "text/x-python",
   "name": "python",
   "nbconvert_exporter": "python",
   "pygments_lexer": "ipython3",
   "version": "3.10.11"
  }
 },
 "nbformat": 4,
 "nbformat_minor": 5
}
