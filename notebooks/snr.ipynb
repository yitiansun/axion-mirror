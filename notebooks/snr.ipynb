{
 "cells": [
  {
   "cell_type": "code",
   "execution_count": 1,
   "id": "382f4659",
   "metadata": {},
   "outputs": [],
   "source": [
    "%reload_ext autoreload\n",
    "%autoreload 2\n",
    "import os, sys\n",
    "sys.path.append('..')\n",
    "\n",
    "from tqdm import tqdm\n",
    "import dill as pickle\n",
    "import csv\n",
    "import datetime\n",
    "import warnings\n",
    "\n",
    "import numpy as np\n",
    "from scipy import integrate\n",
    "from scipy.integrate import IntegrationWarning\n",
    "\n",
    "%matplotlib inline\n",
    "import matplotlib as mpl\n",
    "import matplotlib.pyplot as plt\n",
    "mpl.rc_file('../matplotlibrc')"
   ]
  },
  {
   "cell_type": "code",
   "execution_count": 2,
   "id": "969c91cf",
   "metadata": {},
   "outputs": [],
   "source": [
    "from aatw.snr import *\n",
    "from aatw.spectral import *\n",
    "from aatw.nfw import rho_NFW"
   ]
  },
  {
   "cell_type": "markdown",
   "id": "95dd076d",
   "metadata": {},
   "source": [
    "## 1. Download"
   ]
  },
  {
   "cell_type": "code",
   "execution_count": null,
   "id": "12d73a4d",
   "metadata": {
    "tags": []
   },
   "outputs": [],
   "source": [
    "! wget \"http://snrcat.physics.umanitoba.ca/SNRdownload.php?table=SNR\" -O ../data/SNR/SNRcat-SNR.csv\n",
    "! wget \"http://snrcat.physics.umanitoba.ca/SNRdownload.php?table=SNR\" -O ../data/SNR/SNRcat-OBS.csv"
   ]
  },
  {
   "cell_type": "code",
   "execution_count": null,
   "id": "80e73950",
   "metadata": {},
   "outputs": [],
   "source": [
    "# removed first 2 lines of the files\n",
    "date_str = datetime.date.today().strftime(\"%Y%m%d\")\n",
    "for tag in ['SNR', 'OBS']:\n",
    "    reader = csv.reader(open(f'../data/SNR/SNRcat-{tag}.csv', 'r'), delimiter=';')\n",
    "    next(reader); next(reader)\n",
    "    writer = csv.writer(open(f'../data/SNR/SNRcat{date_str}-{tag}_dehead.csv', 'w'), delimiter=';')\n",
    "    writer.writerows(reader)"
   ]
  },
  {
   "cell_type": "markdown",
   "id": "b53eb76a",
   "metadata": {},
   "source": [
    "## 2. Filter valid SNR"
   ]
  },
  {
   "cell_type": "markdown",
   "id": "e4f9bc53",
   "metadata": {},
   "source": [
    "### 2.1 Valid SNR from SNRcat\n",
    "Requires SNR to have distance and age information."
   ]
  },
  {
   "cell_type": "code",
   "execution_count": 3,
   "id": "983bf255",
   "metadata": {},
   "outputs": [],
   "source": [
    "date_str = '20230426'"
   ]
  },
  {
   "cell_type": "code",
   "execution_count": 4,
   "id": "e6f95e75",
   "metadata": {},
   "outputs": [
    {
     "name": "stdout",
     "output_type": "stream",
     "text": [
      "382: G359.9-00.0\r"
     ]
    }
   ],
   "source": [
    "snr_list = []\n",
    "snr_valid_list = []\n",
    "\n",
    "with open(f'../data/SNR/SNRcat{date_str}-SNR_dehead.csv', 'r') as csvf:\n",
    "    csv_reader = csv.DictReader(csvf, delimiter=';')\n",
    "    \n",
    "    for i, row in enumerate(csv_reader):\n",
    "        \n",
    "        if row['G'] == 'G358.1+00.1':\n",
    "            row['G'] = 'G358.1+01.0' # error in SNRcat\n",
    "        print(f\"{i}: {row['G']}\", end='\\r', flush=True)\n",
    "        \n",
    "        d_min = row['distance_min (kpc)'] # must have dist min & max\n",
    "        d_max = row['distance_max (kpc)']\n",
    "        t_now_min = row['age_min (yr)'] # must have age min & max\n",
    "        t_now_max = row['age_max (yr)']\n",
    "        \n",
    "        if d_min != '' and d_max != '':\n",
    "            d = np.sqrt( float(d_min) * float(d_max) )\n",
    "        else:\n",
    "            d = None\n",
    "            \n",
    "        if t_now_min != '' and t_now_max != '':\n",
    "            t_now = np.sqrt( float(t_now_min) * float(t_now_max) )\n",
    "        else:\n",
    "            t_now = None\n",
    "        \n",
    "        snr = SNR(\n",
    "            ID = row['G'],\n",
    "            name_alt = row['id_alt'],\n",
    "            snr_type = row['type'],\n",
    "            l = float(row['G'][1:6]) * deg,\n",
    "            b = float(row['G'][6:11]) * deg,\n",
    "            size = float(row['size_coarse (arcmin)']) * arcmin,\n",
    "            d = d,\n",
    "            t_now = t_now,\n",
    "            snrcat_dict = row\n",
    "        )\n",
    "        # Additional information\n",
    "        if snr.d is not None:\n",
    "            snr.d_min = float(d_min)\n",
    "            snr.d_max = float(d_max)\n",
    "        if snr.t_now is not None:\n",
    "            snr.t_now_min = float(t_now_min)\n",
    "            snr.t_now_max = float(t_now_max)\n",
    "        \n",
    "        snr_list.append(snr)\n",
    "        if d is not None and t_now is not None:\n",
    "            snr_valid_list.append(snr)"
   ]
  },
  {
   "cell_type": "markdown",
   "id": "4b2b211c",
   "metadata": {},
   "source": [
    "### 2.2 Valid SNR from Green's catalog\n",
    "Requires SNR to have flux information. Copy [this page](https://www.mrao.cam.ac.uk/surveys/snrs/snrs.data.html) to `../data/SNR/Green.txt`"
   ]
  },
  {
   "cell_type": "code",
   "execution_count": 5,
   "id": "352bd5bc",
   "metadata": {
    "tags": []
   },
   "outputs": [
    {
     "name": "stdout",
     "output_type": "stream",
     "text": [
      "O_O__O___________O____O__O_________O____________OO___O____O_OO___O_O_O_O_O__O___O___O_OOO__OO_O___O__OOOOOO__O___OOO__O__O__OOO_OO_OO__O___OO_OOOO_OO_O__O_OO__O_O_O_OO_O_OOO_O__OOOO__OOOO_____OO__O___O___O_____O_____O_O____O__OOO__OO_O__________O_O_OO_O______O_________O___OO_\n",
      "can't find: None.\n",
      "G000.9+00.1 varies \n",
      "G006.4-00.1 varies W28\n",
      "G021.5-00.9 varies \n",
      "G031.9+00.0 varies 3C391\n",
      "G065.7+01.2 varies DA 495\n",
      "G069.0+02.7 varies CTB 80\n",
      "G074.0-08.5 varies Cygnus Loop\n",
      "G074.9+01.2 varies CTB 87\n",
      "G180.0-01.7 varies S147\n",
      "G263.9-03.3 varies Vela (XYZ)\n",
      "G326.3-01.8 varies MSH 15-56\n",
      "\n",
      "Total valid SNR: 102\n"
     ]
    }
   ],
   "source": [
    "snr_valid_SG_list = []\n",
    "varied_str = ''\n",
    "cant_find_str = ''\n",
    "\n",
    "with open('../data/SNR/Green.txt') as f:\n",
    "    lines = f.readlines()\n",
    "    for i, line in enumerate(lines[4:]):\n",
    "        line_strs = list(filter(None,line.split(' ')))\n",
    "        green_dict = {}\n",
    "        green_dict['ID'] = GID(line_strs[0], line_strs[1])\n",
    "        green_dict['name_oth'] = '' if len(line_strs)<=11 else ' '.join(line_strs[11:]).replace('\\n', '')\n",
    "        green_dict['size_str'] = line_strs[7]\n",
    "        green_dict['type'] = line_strs[8]\n",
    "        green_dict['Snu1GHz'] = line_strs[9]\n",
    "        green_dict['spec_ind'] = line_strs[10].replace('\\n', '')\n",
    "        \n",
    "        snr       = get_snr(green_dict['ID'], snr_list)\n",
    "        snr_valid = get_snr(green_dict['ID'], snr_valid_list)\n",
    "        \n",
    "        if snr is None:\n",
    "            print('X', end='')\n",
    "            cant_find_str += green_dict['ID'] + ' '\n",
    "            continue\n",
    "        if snr_valid is None:\n",
    "            print('_', end='')\n",
    "            continue\n",
    "        \n",
    "        Snu1GHz_str = green_dict['Snu1GHz'].replace('?','').replace('>','')\n",
    "        if Snu1GHz_str == '':\n",
    "            continue\n",
    "        snr.Snu1GHz = float(Snu1GHz_str)\n",
    "        \n",
    "        si_str = green_dict['spec_ind'].replace('?','')\n",
    "        if si_str == '':\n",
    "            continue\n",
    "        try:\n",
    "            snr.si = float(si_str)\n",
    "        except ValueError:\n",
    "            snr.si = si_str\n",
    "            varied_str += green_dict['ID']+' '+green_dict['spec_ind']+' '+green_dict['name_oth']+'\\n'\n",
    "        \n",
    "        snr.green_dict = green_dict\n",
    "            \n",
    "        snr_valid_SG_list.append(snr)\n",
    "        print('O', end='')\n",
    "        \n",
    "    if cant_find_str == '':\n",
    "        cant_find_str = 'None.'\n",
    "    print('\\ncan\\'t find: '+cant_find_str)\n",
    "    print(varied_str)\n",
    "    \n",
    "print(f'Total valid SNR: {len(snr_valid_SG_list)}')"
   ]
  },
  {
   "cell_type": "code",
   "execution_count": 6,
   "id": "7b9a9e17",
   "metadata": {},
   "outputs": [],
   "source": [
    "# pickle.dump(snr_valid_SG_list, open('../data/SNR/prebuild_snrlist.p', 'wb'))\n",
    "dump_snr_list(snr_valid_SG_list, \"../data/SNR/prebuild_snrlist.json\")"
   ]
  },
  {
   "cell_type": "markdown",
   "id": "82a08908",
   "metadata": {},
   "source": [
    "## 3. Build SNR with fiducial values and variations"
   ]
  },
  {
   "cell_type": "code",
   "execution_count": 7,
   "id": "e6429210",
   "metadata": {},
   "outputs": [],
   "source": [
    "variation_flags = ['none', 'tiop1', 'tMFA_p', 'tMFA_m', 'd_p', 'd_m', 'age_p', 'age_m']"
   ]
  },
  {
   "cell_type": "code",
   "execution_count": 8,
   "id": "5b117596",
   "metadata": {},
   "outputs": [
    {
     "name": "stdout",
     "output_type": "stream",
     "text": [
      "none :\n"
     ]
    },
    {
     "name": "stderr",
     "output_type": "stream",
     "text": [
      "100%|█████████████████████████████████████████████████████████████████████████████████| 102/102 [00:05<00:00, 19.64it/s]\n"
     ]
    }
   ],
   "source": [
    "warnings.filterwarnings('ignore', category=IntegrationWarning)\n",
    "\n",
    "for vflag in ['none']: # Adjust here\n",
    "    \n",
    "    print(vflag, ':')\n",
    "    #snr_valid_SG_list = pickle.load(open('../data/SNR/prebuild_snrlist.p', 'rb'))\n",
    "    snr_valid_SG_list = load_snr_list(\"../data/SNR/prebuild_snrlist.json\")\n",
    "    \n",
    "    #===== general snr =====\n",
    "    for snr in snr_valid_SG_list:\n",
    "        if isinstance(snr.si, str):\n",
    "            snr.si = 0.5\n",
    "            snr.si_guessed = True\n",
    "        else:\n",
    "            snr.si_guessed = False\n",
    "        snr.t_free = 500 # [yr]\n",
    "        if vflag == 'tMFA_p':\n",
    "            snr.t_MFA = 300 # [yr]\n",
    "        elif vflag == 'tMFA_m':\n",
    "            snr.t_MFA = 30 # [yr]\n",
    "        else:\n",
    "            snr.t_MFA = 100 # [yr]\n",
    "            \n",
    "        # Adjust d and age\n",
    "        if vflag == 'd_p':\n",
    "            snr.d = snr.d_max\n",
    "        elif vflag == 'd_m':\n",
    "            snr.d = snr.d_min\n",
    "            \n",
    "        if vflag == 'age_p':\n",
    "            snr.t_now = snr.t_now_max\n",
    "        elif vflag == 'age_m':\n",
    "            snr.t_now = snr.t_now_min\n",
    "        \n",
    "    #===== individual changes =====\n",
    "    snr = get_snr('G263.9-03.3', snr_valid_SG_list)\n",
    "    snr.name_alt = 'Vela'\n",
    "    snr.si = (2.47-1)/2 # fiducial: 2.47\n",
    "    snr.t_now = 12000 # fiducial: 10000-12000-14000\n",
    "    if vflag == 'age_p':\n",
    "        snr.t_now = 14000\n",
    "    elif vflag == 'age_m':\n",
    "        snr.t_now = 10000\n",
    "    snr.d = 0.287 # kpc\n",
    "    if vflag == 'd_p':\n",
    "        snr.d = 0.287 + 0.019\n",
    "    if vflag == 'd_m':\n",
    "        snr.d = 0.287 - 0.017\n",
    "    snr.Snu1GHz = 670\n",
    "\n",
    "    snr = get_snr('G006.4-00.1', snr_valid_SG_list)\n",
    "    snr.name_alt = 'W28'\n",
    "    snr.si = 0.42 # Kassim 1992 | 330 MHz VLA OBSERVATIONS OF 20 GALACTIC SUPERNOVA REMNANTS\n",
    "    # density # https://arxiv.org/pdf/1805.03372.pdf, Reach et al 2005\n",
    "    snr.t_now = 34467 # yr\n",
    "    if vflag == 'age_p':\n",
    "        snr.t_now = 100000\n",
    "    elif vflag == 'age_m':\n",
    "        snr.t_now = 30000\n",
    "    snr.d = 1.876 # kpc\n",
    "    if vflag == 'd_p':\n",
    "        snr.d = 1.6\n",
    "    if vflag == 'd_m':\n",
    "        snr.d = 2.2\n",
    "\n",
    "    snr = get_snr('G039.7-02.0', snr_valid_SG_list)\n",
    "    snr.name_alt = 'W50'\n",
    "    snr.t_now = 54772 # fiducial: 30000-54772-100000\n",
    "    if vflag == 'age_p':\n",
    "        snr.t_now = 100000\n",
    "    elif vflag == 'age_m':\n",
    "        snr.t_now = 30000\n",
    "    snr.d = 4.77 # kpc\n",
    "    if vflag == 'd_p':\n",
    "        snr.d = 3.5\n",
    "    if vflag == 'd_m':\n",
    "        snr.d = 6.5\n",
    "    snr.si = 0.7 # fiducial: 0.7\n",
    "\n",
    "    snr = get_snr('G326.3-01.8', snr_valid_SG_list)\n",
    "    snr.name_alt = 'MSH 15-56'\n",
    "    snr.si = 0.34 # RADIO EMISSION FROM THE COMPOSITE SUPERNOVA REMNANT G326.3-1.8 (MSH 15-56)\n",
    "    \n",
    "    #===== build =====\n",
    "    if vflag == 'tiop1':\n",
    "        tiop = '1'\n",
    "    else:\n",
    "        tiop = '2'\n",
    "    for snr in tqdm(snr_valid_SG_list):\n",
    "        snr.build(rho_DM=rho_NFW, tiop=tiop)\n",
    "        \n",
    "    #===== save =====\n",
    "    #pickle.dump(snr_valid_SG_list, open(f'../data/SNR/snrlist_{vflag}.p', 'wb'))\n",
    "    dump_snr_list(snr_valid_SG_list, f\"../data/SNR/snrlist_{vflag}.json\")"
   ]
  },
  {
   "cell_type": "markdown",
   "id": "ad1d42b5",
   "metadata": {},
   "source": [
    "## Check"
   ]
  },
  {
   "cell_type": "code",
   "execution_count": 10,
   "id": "e3457c83",
   "metadata": {},
   "outputs": [],
   "source": [
    "a = pickle.load(open(f'../data/SNR/snrlist_none.p', 'rb'))\n",
    "b = load_snr_list(\"../data/SNR/snrlist_none.json\")"
   ]
  },
  {
   "cell_type": "code",
   "execution_count": null,
   "id": "9a8e92c7",
   "metadata": {},
   "outputs": [],
   "source": [
    "for sa, sb in zip(a, b):\n",
    "    print((sa.image_sigma_fg- sb.image_sigma_fg)/sa.image_sigma_fg)"
   ]
  },
  {
   "cell_type": "code",
   "execution_count": 13,
   "id": "df999563",
   "metadata": {},
   "outputs": [
    {
     "data": {
      "image/png": "[encoded data removed]",
      "text/plain": [
       "<Figure size 720x480 with 1 Axes>"
      ]
     },
     "metadata": {},
     "output_type": "display_data"
    }
   ],
   "source": [
    "# plot Vela, W28 W50\n",
    "fig, ax = plt.subplots()\n",
    "\n",
    "colors = [ plt.get_cmap('plasma')(x) for x in [0.0, 0.7, 0.87] ]\n",
    "\n",
    "for i, name in enumerate(['Vela', 'W28', 'W50']):\n",
    "    snr = get_snr(name, snr_valid_SG_list)\n",
    "    t_s = np.logspace(np.log10(10), np.log10(snr.t_now), 50) # [yr]\n",
    "    L_s = [4*np.pi * (snr.d*kpc)**2 * 1e-23 * snr.Snu_t_fl(1000, t) for t in t_s]\n",
    "    ax.plot(t_s, L_s, label=name, color=colors[i], lw=2)\n",
    "ax.set(xscale='log', yscale='log')\n",
    "ax.set(xlabel='Time [yr]', ylabel='Luminosity [erg/s/Hz]')\n",
    "ax.legend();"
   ]
  },
  {
   "cell_type": "code",
   "execution_count": 14,
   "id": "0f238733",
   "metadata": {},
   "outputs": [
    {
     "data": {
      "text/plain": [
       "5.211844228977227e-05"
      ]
     },
     "execution_count": 14,
     "metadata": {},
     "output_type": "execute_result"
    }
   ],
   "source": [
    "# expected gegenschein flux\n",
    "get_snr('Vela', snr_valid_SG_list).Sgnu(1000)"
   ]
  },
  {
   "cell_type": "code",
   "execution_count": null,
   "id": "27dcae07",
   "metadata": {},
   "outputs": [],
   "source": []
  }
 ],
 "metadata": {
  "kernelspec": {
   "display_name": "Python 3 (ipykernel)",
   "language": "python",
   "name": "python3"
  },
  "language_info": {
   "codemirror_mode": {
    "name": "ipython",
    "version": 3
   },
   "file_extension": ".py",
   "mimetype": "text/x-python",
   "name": "python",
   "nbconvert_exporter": "python",
   "pygments_lexer": "ipython3",
   "version": "3.10.4"
  }
 },
 "nbformat": 4,
 "nbformat_minor": 5
}
