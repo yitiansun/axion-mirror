{
 "cells": [
  {
   "cell_type": "code",
   "execution_count": 3,
   "metadata": {},
   "outputs": [],
   "source": [
    "import numpy as np\n",
    "import scipy.integrate as integrate\n",
    "\n",
    "import sys\n",
    "\n",
    "import csv\n",
    "#import pickle\n",
    "import dill as pickle # use to save unnamed functions\n",
    "from tqdm import tqdm"
   ]
  },
  {
   "cell_type": "code",
   "execution_count": 2,
   "metadata": {},
   "outputs": [],
   "source": [
    "import matplotlib.pyplot as plt\n",
    "from matplotlib import rc_file\n",
    "rc_file('../matplotlibrc')"
   ]
  },
  {
   "cell_type": "code",
   "execution_count": 5,
   "metadata": {},
   "outputs": [],
   "source": [
    "%reload_ext autoreload\n",
    "%autoreload 2\n",
    "\n",
    "sys.path.append('..')\n",
    "from common import *"
   ]
  },
  {
   "cell_type": "markdown",
   "metadata": {},
   "source": [
    "### SNRcat: convert html to csv\n",
    "- download [this](http://snrcat.physics.umanitoba.ca/SNRdownload.php?&table=OBS) to `SNRcat20220619-OBS.csv`\n",
    "- download [this](http://snrcat.physics.umanitoba.ca/SNRdownload.php?&table=SNR) to `SNRcat20220619-SNR.csv`"
   ]
  },
  {
   "cell_type": "code",
   "execution_count": 8,
   "metadata": {},
   "outputs": [],
   "source": [
    "# removed first 2 lines of the files\n",
    "reader = csv.reader(open('SNRcat20220619-SNR.csv', 'r'), delimiter=';')\n",
    "next(reader)\n",
    "next(reader)\n",
    "writer = csv.writer(open('SNRcat20220619-SNR_dehead.csv', 'w'), delimiter=';')\n",
    "writer.writerows(reader)"
   ]
  },
  {
   "cell_type": "code",
   "execution_count": 10,
   "metadata": {},
   "outputs": [],
   "source": [
    "# removed first 2 lines of the files\n",
    "reader = csv.reader(open('SNRcat20220619-OBS.csv', 'r'), delimiter=';')\n",
    "next(reader)\n",
    "next(reader)\n",
    "writer = csv.writer(open('SNRcat20220619-OBS_dehead.csv', 'w'), delimiter=';')\n",
    "writer.writerows(reader)"
   ]
  },
  {
   "cell_type": "markdown",
   "metadata": {},
   "source": [
    "### Valid SNR from SNRcat\n",
    "require SNR to have distance and age information"
   ]
  },
  {
   "cell_type": "code",
   "execution_count": 11,
   "metadata": {
    "tags": []
   },
   "outputs": [
    {
     "name": "stdout",
     "output_type": "stream",
     "text": [
      "382: G359.9-00.0"
     ]
    }
   ],
   "source": [
    "snr_list = []\n",
    "snr_valid_list = []\n",
    "\n",
    "with open('SNRcat20220619-SNR_dehead.csv', 'r') as csvf:\n",
    "    csv_reader = csv.DictReader(csvf, delimiter=';')\n",
    "    for i, row in enumerate(csv_reader):\n",
    "        # must have dist, age min & max\n",
    "        d_min = row['distance_min (kpc)']\n",
    "        d_max = row['distance_max (kpc)']\n",
    "        tn_min = row['age_min (yr)']\n",
    "        tn_max = row['age_max (yr)']\n",
    "        \n",
    "        if row['G'] == 'G358.1+00.1':\n",
    "            row['G'] = 'G358.1+01.0' # error in SNRcat\n",
    "        \n",
    "        valid = True\n",
    "        if d_min=='' or d_max=='':\n",
    "            valid = False\n",
    "            d = None\n",
    "        else:\n",
    "            d = np.sqrt( float(d_min) * float(d_max) ) # geometric average\n",
    "        if tn_min=='' or tn_max=='':\n",
    "            valid = False\n",
    "            tn = None\n",
    "        else:\n",
    "            tn = np.sqrt( float(tn_min) * float(tn_max) ) # geometric average\n",
    "            #tn = float(tn_max) # geometric average\n",
    "        \n",
    "        snr = SNR(ID=row['G'],\n",
    "                  name_alt=row['id_alt'],\n",
    "                  snr_type=row['type'],\n",
    "                  l=float(row['G'][1:6]),\n",
    "                  b=float(row['G'][6:11]),\n",
    "                  size=float(row['size_coarse (arcmin)']),\n",
    "                  d=d,\n",
    "                  tn=tn,\n",
    "                  snrcat_dict=row )\n",
    "        snr_list.append(snr)\n",
    "        if valid:\n",
    "            snr_valid_list.append(snr)\n",
    "        print('\\r%d: %s' % (i, snr.ID), end='', flush=True)"
   ]
  },
  {
   "cell_type": "markdown",
   "metadata": {},
   "source": [
    "### Valid SNR from Green's catalog\n",
    "require SNR to have flux information\n",
    "copy [this page](https://www.mrao.cam.ac.uk/surveys/snrs/snrs.data.html) to `Green.txt`"
   ]
  },
  {
   "cell_type": "code",
   "execution_count": 13,
   "metadata": {},
   "outputs": [
    {
     "name": "stdout",
     "output_type": "stream",
     "text": [
      "O_O__O___________O____O__O_________O____________OO___O____O_OO___O_O_O_O_O__O___O___O_OOO__OO_O___O__OOOOOO__O___OOO__O__O__OOO_OO_OOO_O___OO_OOOO_OO_O__O_OO__O___O_OO_O_OOO_O__OOOO__OOOO______O__O_______O_____O_____O_O____O__OOO__OO_O__________O_O_OO_O______O_________O____O_\n",
      "can't find: None.\n",
      "G000.9+00.1 varies \n",
      "G006.4-00.1 varies W28\n",
      "G021.5-00.9 varies \n",
      "G031.9+00.0 varies 3C391\n",
      "G065.7+01.2 varies DA 495\n",
      "G069.0+02.7 varies CTB 80\n",
      "G074.0-08.5 varies Cygnus Loop\n",
      "G074.9+01.2 varies CTB 87\n",
      "G180.0-01.7 varies S147\n",
      "G263.9-03.3 varies Vela (XYZ)\n",
      "G326.3-01.8 varies MSH 15-56\n",
      "\n"
     ]
    }
   ],
   "source": [
    "snr_valid_SG_list = []\n",
    "varied_str = ''\n",
    "cant_find_str = ''\n",
    "\n",
    "with open('Green.txt') as f:\n",
    "    lines = f.readlines()\n",
    "    for i, line in enumerate(lines[4:]):\n",
    "        line_strs = list(filter(None,line.split(' ')))\n",
    "        green_dict = {}\n",
    "        green_dict['ID'] = GID(line_strs[0], line_strs[1])\n",
    "        green_dict['name_oth'] = '' if len(line_strs)<=11 else ' '.join(line_strs[11:]).replace('\\n', '')\n",
    "        green_dict['size_str'] = line_strs[7]\n",
    "        green_dict['type'] = line_strs[8]\n",
    "        green_dict['Snu1GHz'] = line_strs[9]\n",
    "        green_dict['spec_ind'] = line_strs[10].replace('\\n', '')\n",
    "        \n",
    "        snr       = get_snr(green_dict['ID'], snr_list)\n",
    "        snr_valid = get_snr(green_dict['ID'], snr_valid_list)\n",
    "        \n",
    "        if snr is None:\n",
    "            print('X', end='')\n",
    "            cant_find_str += green_dict['ID'] + ' '\n",
    "            continue\n",
    "        if snr_valid is None:\n",
    "            print('_', end='')\n",
    "            continue\n",
    "        \n",
    "        Snu1GHz_str = green_dict['Snu1GHz'].replace('?','').replace('>','')\n",
    "        if Snu1GHz_str == '':\n",
    "            continue\n",
    "        snr.Snu1GHz = float(Snu1GHz_str)\n",
    "        \n",
    "        si_str = green_dict['spec_ind'].replace('?','')\n",
    "        if si_str == '':\n",
    "            continue\n",
    "        try:\n",
    "            snr.si = float(si_str)\n",
    "        except ValueError:\n",
    "            snr.si = si_str\n",
    "            varied_str += green_dict['ID']+' '+green_dict['spec_ind']+' '+green_dict['name_oth']+'\\n'\n",
    "        \n",
    "        snr.green_dict = green_dict\n",
    "            \n",
    "        snr_valid_SG_list.append(snr)\n",
    "        print('O', end='')\n",
    "        \n",
    "    if cant_find_str == '':\n",
    "        cant_find_str = 'None.'\n",
    "    print('\\ncan\\'t find: '+cant_find_str)\n",
    "    print(varied_str)"
   ]
  },
  {
   "cell_type": "code",
   "execution_count": 14,
   "metadata": {},
   "outputs": [
    {
     "data": {
      "text/plain": [
       "99"
      ]
     },
     "execution_count": 14,
     "metadata": {},
     "output_type": "execute_result"
    }
   ],
   "source": [
    "len(snr_valid_SG_list)"
   ]
  },
  {
   "cell_type": "markdown",
   "metadata": {},
   "source": [
    "### find SNR parameters: spectral index si, tf, Snu"
   ]
  },
  {
   "cell_type": "code",
   "execution_count": 7,
   "metadata": {},
   "outputs": [],
   "source": [
    "# guess value\n",
    "for snr in snr_valid_SG_list:\n",
    "    if isinstance(snr.si, str):\n",
    "        snr.si = 0.501\n",
    "    snr.tf = 500\n",
    "    snr.tMFA = 100"
   ]
  },
  {
   "cell_type": "markdown",
   "metadata": {},
   "source": [
    "individual changes"
   ]
  },
  {
   "cell_type": "code",
   "execution_count": 8,
   "metadata": {},
   "outputs": [],
   "source": [
    "snr = get_snr('G263.9-03.3', snr_valid_SG_list)\n",
    "snr.name_alt = 'Vela'\n",
    "snr.si = (2.47-1)/2 # fiducial: 2.47\n",
    "snr.tn = 12000 # fiducial: 10000-12000-14000\n",
    "snr.Snu1GHz = 670"
   ]
  },
  {
   "cell_type": "code",
   "execution_count": 9,
   "metadata": {},
   "outputs": [],
   "source": [
    "snr = get_snr('G006.4-00.1', snr_valid_SG_list)\n",
    "snr.name_alt = 'W28'\n",
    "snr.si = 0.42 # Kassim 1992 | 330 MHz VLA OBSERVATIONS OF 20 GALACTIC SUPERNOVA REMNANTS\n",
    "# density # https://arxiv.org/pdf/1805.03372.pdf, Reach et al 2005"
   ]
  },
  {
   "cell_type": "code",
   "execution_count": 10,
   "metadata": {},
   "outputs": [],
   "source": [
    "snr = get_snr('G039.7-02.0', snr_valid_SG_list)\n",
    "snr.name_alt = 'W50'\n",
    "snr.tn = 54772 # fiducial: 30000-54772-100000\n",
    "snr.si = 0.7 # fiducial: 0.7"
   ]
  },
  {
   "cell_type": "code",
   "execution_count": 11,
   "metadata": {},
   "outputs": [],
   "source": [
    "snr = get_snr('G326.3-01.8', snr_valid_SG_list)\n",
    "snr.name_alt = 'MSH 15-56'\n",
    "snr.si = 0.34 # RADIO EMISSION FROM THE COMPOSITE SUPERNOVA REMNANT G326.3-1.8 (MSH 15-56)"
   ]
  },
  {
   "cell_type": "code",
   "execution_count": 12,
   "metadata": {},
   "outputs": [
    {
     "name": "stderr",
     "output_type": "stream",
     "text": [
      "100%|██████████| 98/98 [00:00<00:00, 135.51it/s]\n"
     ]
    }
   ],
   "source": [
    "for snr in tqdm(snr_valid_SG_list):\n",
    "    snr.build()"
   ]
  },
  {
   "cell_type": "code",
   "execution_count": 13,
   "metadata": {},
   "outputs": [
    {
     "data": {
      "text/plain": [
       "5.100799176651339"
      ]
     },
     "execution_count": 13,
     "metadata": {},
     "output_type": "execute_result"
    }
   ],
   "source": [
    "get_snr('W50', snr_valid_SG_list).dec"
   ]
  },
  {
   "cell_type": "markdown",
   "metadata": {},
   "source": [
    "### get approximate gaussian sigma from blurring"
   ]
  },
  {
   "cell_type": "code",
   "execution_count": 12,
   "metadata": {},
   "outputs": [
    {
     "name": "stdout",
     "output_type": "stream",
     "text": [
      "G359.1-00.5: 4.106 arcmin  "
     ]
    }
   ],
   "source": [
    "for snr in snr_valid_SG_list:\n",
    "    nu_ref = 1000 # MHz\n",
    "    Snu_ref = lambda t: snr.Snu_t_fl(nu_ref, t, tiop='2')\n",
    "    \n",
    "    norm_intgd = lambda xp: Snu_ref(snr.t(xp)) * rhoNFW(snr.Gr(xp)) * 1e21\n",
    "    imsz_intgd = lambda xp: snr.image_sigma_at(xp) * Snu_ref(snr.t(xp)) * rhoNFW(snr.Gr(xp)) * 1e21\n",
    "    \n",
    "    norm, err = integrate.quad(norm_intgd, 0, snr.xp(0))\n",
    "    imsz, err = integrate.quad(imsz_intgd, 0, snr.xp(0))\n",
    "    \n",
    "    snr.image_sigma = imsz/norm # arcmin\n",
    "    print('\\r%s: %.3f arcmin ' % (snr.ID, snr.image_sigma), end='', flush=True)"
   ]
  },
  {
   "cell_type": "markdown",
   "metadata": {},
   "source": [
    "### save"
   ]
  },
  {
   "cell_type": "code",
   "execution_count": 23,
   "metadata": {},
   "outputs": [],
   "source": [
    "pickle.dump(snr_valid_SG_list, open('fl'+str(snr.tMFA)+'_age_p.snrlist', 'wb'))"
   ]
  },
  {
   "cell_type": "markdown",
   "metadata": {},
   "source": [
    "### variations of single sources"
   ]
  },
  {
   "cell_type": "code",
   "execution_count": 23,
   "metadata": {},
   "outputs": [],
   "source": [
    "def calc_image_sigma(snr, tiop):\n",
    "    nu_ref = 1000 # MHz\n",
    "    Snu_ref = lambda t: snr.Snu_t_fl(nu_ref, t, tiop=tiop)\n",
    "    \n",
    "    norm_intgd = lambda xp: Snu_ref(snr.t(xp)) * rhoNFW(snr.Gr(xp)) * 1e21\n",
    "    imsz_intgd = lambda xp: snr.image_sigma_at(xp) * Snu_ref(snr.t(xp)) * rhoNFW(snr.Gr(xp)) * 1e21\n",
    "    \n",
    "    norm, err = integrate.quad(norm_intgd, 0, snr.xp(0))\n",
    "    imsz, err = integrate.quad(imsz_intgd, 0, snr.xp(0))\n",
    "    \n",
    "    snr.image_sigma = imsz/norm # arcmin\n",
    "    #print('%s: %.3f arcmin ' % (snr.name(), snr.image_sigma), end='\\n', flush=True)"
   ]
  },
  {
   "cell_type": "code",
   "execution_count": 24,
   "metadata": {},
   "outputs": [],
   "source": [
    "var_flags = ['si_p', 'si_m', 'tMFA_p', 'tMFA_m', '', 'tiop1', 'd_p', 'd_m']\n",
    "var_flags.extend(range(10)) # for age sample points"
   ]
  },
  {
   "cell_type": "code",
   "execution_count": 27,
   "metadata": {},
   "outputs": [
    {
     "name": "stdout",
     "output_type": "stream",
     "text": [
      "snr_data/Vela_9.snr\t\t\t\t\t\t\t"
     ]
    }
   ],
   "source": [
    "snr = get_snr('G263.9-03.3', snr_valid_SG_list)\n",
    "snr.name_alt = 'Vela'\n",
    "tn_list = np.logspace(np.log10(10500), np.log10(14500), 10)\n",
    "\n",
    "for vf in var_flags:\n",
    "    snr.Snu1GHz = 670 # Jy\n",
    "    snr.tf = 650 # yr\n",
    "    \n",
    "    snr.tn = 12000 # yr\n",
    "    if isinstance(vf, int):\n",
    "        snr.tn = tn_list[vf]\n",
    "    snr.si = (2.47-1)/2\n",
    "    if vf == 'si_p':\n",
    "        snr.si = (2.47+0.09-1)/2\n",
    "    if vf == 'si_m':\n",
    "        snr.si = (2.47-0.09-1)/2\n",
    "    snr.tMFA = 100 # yr\n",
    "    if vf == 'tMFA_p':\n",
    "        snr.tMFA = 30\n",
    "    if vf == 'tMFA_m':\n",
    "        snr.tMFA = 300\n",
    "    snr.d = 0.287 # kpc\n",
    "    if vf == 'd_p':\n",
    "        snr.d = 0.287 + 0.019\n",
    "    if vf == 'd_m':\n",
    "        snr.d = 0.287 - 0.017\n",
    "    snr.build()\n",
    "    calc_image_sigma(snr, '1' if vf == 'tiop1' else '2')\n",
    "    fn = 'snr_data/'+snr.name()+'_'+str(vf)+'.snr'\n",
    "    pickle.dump(snr, open(fn, 'wb'))\n",
    "    print('\\r'+fn+'\\t\\t', end='', flush=True)"
   ]
  },
  {
   "cell_type": "code",
   "execution_count": 31,
   "metadata": {},
   "outputs": [
    {
     "name": "stdout",
     "output_type": "stream",
     "text": [
      "snr_data/W50_9.snr\t\t\t\t\t\t\t"
     ]
    }
   ],
   "source": [
    "snr = get_snr('G039.7-02.0', snr_valid_SG_list)\n",
    "snr.name_alt = 'W50'\n",
    "tn_list = np.logspace(np.log10(30000), np.log10(100000), 10)\n",
    "\n",
    "for vf in var_flags:\n",
    "    snr.tf = 500 # yr\n",
    "    snr.tn = 54772 # yr\n",
    "    if isinstance(vf, int):\n",
    "        snr.tn = tn_list[vf]\n",
    "    snr.si = 0.7\n",
    "    if vf == 'si_p':\n",
    "        snr.si = 0.8\n",
    "    if vf == 'si_m':\n",
    "        snr.si = 0.55\n",
    "    snr.tMFA = 100 # yr\n",
    "    if vf == 'tMFA_p':\n",
    "        snr.tMFA = 30\n",
    "    if vf == 'tMFA_m':\n",
    "        snr.tMFA = 300\n",
    "    snr.d = 4.77 # kpc\n",
    "    if vf == 'd_p':\n",
    "        snr.d = 3.5\n",
    "    if vf == 'd_m':\n",
    "        snr.d = 6.5\n",
    "    snr.build()\n",
    "    calc_image_sigma(snr, '1' if vf == 'tiop1' else '2')\n",
    "    fn = 'snr_data/'+snr.name()+'_'+str(vf)+'.snr'\n",
    "    pickle.dump(snr, open(fn, 'wb'))\n",
    "    print('\\r'+fn+'\\t\\t', end='', flush=True)"
   ]
  },
  {
   "cell_type": "code",
   "execution_count": 34,
   "metadata": {},
   "outputs": [
    {
     "data": {
      "text/plain": [
       "1.876166303929372"
      ]
     },
     "execution_count": 34,
     "metadata": {},
     "output_type": "execute_result"
    }
   ],
   "source": [
    "get_snr('G006.4-00.1', snr_valid_SG_list).d"
   ]
  },
  {
   "cell_type": "code",
   "execution_count": 35,
   "metadata": {},
   "outputs": [
    {
     "name": "stdout",
     "output_type": "stream",
     "text": [
      "snr_data/W28_9.snr\t\t\t\t\t\t\t"
     ]
    }
   ],
   "source": [
    "snr = get_snr('G006.4-00.1', snr_valid_SG_list)\n",
    "snr.name_alt = 'W28'\n",
    "snr.si = 0.42\n",
    "tn_list = np.logspace(np.log10(33000), np.log10(36000), 10)\n",
    "\n",
    "for vf in var_flags:\n",
    "    snr.tf = 500 # yr\n",
    "    snr.tn = 34467 # yr\n",
    "    if isinstance(vf, int):\n",
    "        snr.tn = tn_list[vf]\n",
    "    snr.si = 0.42\n",
    "    if vf == 'si_p':\n",
    "        snr.si = 0.42+0.02\n",
    "    if vf == 'si_m':\n",
    "        snr.si = 0.42-0.02\n",
    "    snr.tMFA = 100 # yr\n",
    "    if vf == 'tMFA_p':\n",
    "        snr.tMFA = 30\n",
    "    if vf == 'tMFA_m':\n",
    "        snr.tMFA = 300\n",
    "    snr.d = 1.876 # kpc\n",
    "    if vf == 'd_p':\n",
    "        snr.d = 1.6\n",
    "    if vf == 'd_m':\n",
    "        snr.d = 2.2\n",
    "    snr.build()\n",
    "    calc_image_sigma(snr, '1' if vf == 'tiop1' else '2')\n",
    "    fn = 'snr_data/'+snr.name()+'_'+str(vf)+'.snr'\n",
    "    pickle.dump(snr, open(fn, 'wb'))\n",
    "    print('\\r'+fn+'\\t\\t', end='', flush=True)"
   ]
  },
  {
   "cell_type": "markdown",
   "metadata": {},
   "source": [
    "### plot luminosity"
   ]
  },
  {
   "cell_type": "code",
   "execution_count": 30,
   "metadata": {},
   "outputs": [],
   "source": [
    "snr = get_snr('W50', snr_valid_SG_list)\n",
    "t_arr = np.logspace(np.log10(10), np.log10(snr.tn), num=100)\n",
    "Snu_arrs = [[snr.Snu_t_fl(1000, t, tiop='2') for t in t_arr],\n",
    "            [snr.Snu_t_fl(1000, t, tiop='1') for t in t_arr],\n",
    "            [snr.Snu_t_fv(1000, t, tiop='2') for t in t_arr]\n",
    "           ]\n",
    "labels = ['fl2', 'fl1', 'fv2']"
   ]
  },
  {
   "cell_type": "code",
   "execution_count": 31,
   "metadata": {},
   "outputs": [
    {
     "data": {
      "image/png": "[encoded data removed]",
      "text/plain": [
       "<Figure size 600x400 with 1 Axes>"
      ]
     },
     "metadata": {},
     "output_type": "display_data"
    }
   ],
   "source": [
    "fig, ax = plt.subplots()\n",
    "for Snu_arr, label in zip(Snu_arrs, labels):\n",
    "    ax.plot(t_arr, Snu_arr, label=label)\n",
    "ax.set(xscale='log', yscale='log')\n",
    "ax.legend()\n",
    "plt.show()"
   ]
  },
  {
   "cell_type": "code",
   "execution_count": 32,
   "metadata": {},
   "outputs": [
    {
     "name": "stdout",
     "output_type": "stream",
     "text": [
      "8976885404.239485\n"
     ]
    }
   ],
   "source": [
    "total = integrate.quad(lambda t: snr.Snu_t_fp(1000, t, tiop='2'), 0, snr.tn)[0]\n",
    "print(total)"
   ]
  },
  {
   "cell_type": "code",
   "execution_count": 33,
   "metadata": {},
   "outputs": [
    {
     "name": "stdout",
     "output_type": "stream",
     "text": [
      "1693265821.8884728\n"
     ]
    }
   ],
   "source": [
    "total = integrate.quad(lambda t: snr.Snu_t_fl(1000, t, tiop='2'), 0, snr.tn)[0]\n",
    "print(total)"
   ]
  },
  {
   "cell_type": "code",
   "execution_count": 34,
   "metadata": {},
   "outputs": [
    {
     "name": "stdout",
     "output_type": "stream",
     "text": [
      "0.48059870018321815 0.2975414112312017 0.22185988859020658\n"
     ]
    }
   ],
   "source": [
    "ph0 = integrate.quad(lambda t: snr.Snu_t_fl(1000, t, tiop='2'), 0, snr.tMFA)[0]/total\n",
    "ph1 = integrate.quad(lambda t: snr.Snu_t_fl(1000, t, tiop='2'), snr.tMFA, snr.tf)[0]/total\n",
    "ph2 = integrate.quad(lambda t: snr.Snu_t_fl(1000, t, tiop='2'), snr.tf, snr.tn)[0]/total\n",
    "print(ph0, ph1, ph2)"
   ]
  },
  {
   "cell_type": "markdown",
   "metadata": {},
   "source": [
    "### luminosity distribution"
   ]
  },
  {
   "cell_type": "code",
   "execution_count": 21,
   "metadata": {},
   "outputs": [],
   "source": [
    "L_arr = np.array([4*np.pi*snr.Snu_t_fl(6300, 100, tiop='1')*(snr.d**2) for snr in snr_valid_SG_list])\n",
    "L_arr *= 9.52141e19 # Jy kpc^2 --> erg/s/Hz"
   ]
  },
  {
   "cell_type": "code",
   "execution_count": 22,
   "metadata": {},
   "outputs": [
    {
     "data": {
      "text/plain": [
       "25.38539330965852"
      ]
     },
     "execution_count": 22,
     "metadata": {},
     "output_type": "execute_result"
    }
   ],
   "source": [
    "np.mean(np.log10(L_arr))"
   ]
  },
  {
   "cell_type": "code",
   "execution_count": 20,
   "metadata": {},
   "outputs": [
    {
     "data": {
      "text/plain": [
       "26.11967552331366"
      ]
     },
     "execution_count": 20,
     "metadata": {},
     "output_type": "execute_result"
    }
   ],
   "source": [
    "np.mean(np.log10(L_arr))"
   ]
  },
  {
   "cell_type": "code",
   "execution_count": 23,
   "metadata": {},
   "outputs": [
    {
     "data": {
      "text/plain": [
       "0.942829160031233"
      ]
     },
     "execution_count": 23,
     "metadata": {},
     "output_type": "execute_result"
    }
   ],
   "source": [
    "d_arr = np.log10(L_arr) - np.mean(np.log10(L_arr))\n",
    "np.sqrt(np.dot(d_arr, d_arr)/len(d_arr))"
   ]
  },
  {
   "cell_type": "code",
   "execution_count": 16,
   "metadata": {},
   "outputs": [
    {
     "data": {
      "image/png": "[encoded data removed]",
      "text/plain": [
       "<Figure size 600x400 with 1 Axes>"
      ]
     },
     "metadata": {},
     "output_type": "display_data"
    }
   ],
   "source": [
    "plt.hist(np.log10(L_arr))\n",
    "plt.show()"
   ]
  },
  {
   "cell_type": "code",
   "execution_count": 84,
   "metadata": {},
   "outputs": [
    {
     "data": {
      "text/plain": [
       "28.407498699325583"
      ]
     },
     "execution_count": 84,
     "metadata": {},
     "output_type": "execute_result"
    }
   ],
   "source": [
    "snr = get_snr('W28', snr_valid_SG_list)\n",
    "np.log10(4*np.pi*snr.Snu_t_fl(1000, 45, tiop='2')*(snr.d**2) * 9.52141e19)"
   ]
  },
  {
   "cell_type": "code",
   "execution_count": 85,
   "metadata": {},
   "outputs": [
    {
     "data": {
      "text/plain": [
       "25.943674936926634"
      ]
     },
     "execution_count": 85,
     "metadata": {},
     "output_type": "execute_result"
    }
   ],
   "source": [
    "snr = get_snr('Vela', snr_valid_SG_list)\n",
    "np.log10(4*np.pi*snr.Snu_t_fl(1000, 300, tiop='2')*(snr.d**2) * 9.52141e19)"
   ]
  },
  {
   "cell_type": "markdown",
   "metadata": {
    "jp-MarkdownHeadingCollapsed": true,
    "tags": []
   },
   "source": [
    "## Archive"
   ]
  },
  {
   "cell_type": "markdown",
   "metadata": {},
   "source": [
    "## crude comparison to Vela"
   ]
  },
  {
   "cell_type": "code",
   "execution_count": 12,
   "metadata": {},
   "outputs": [],
   "source": [
    "import scipy.integrate as integrate"
   ]
  },
  {
   "cell_type": "code",
   "execution_count": 13,
   "metadata": {},
   "outputs": [],
   "source": [
    "def intSg(snr):\n",
    "    tpower1 = -0.4*(snr.s+1)\n",
    "    tpower2 = -0.8*snr.s\n",
    "    def integrand(t):\n",
    "        return (np.maximum(t, 100)/snr.tn)**tpower2\n",
    "    return snr.flux1GHz * integrate.quad(integrand, 0, snr.tn)[0]"
   ]
  },
  {
   "cell_type": "code",
   "execution_count": 14,
   "metadata": {},
   "outputs": [],
   "source": [
    "Vela = get_snr(GID(263.9,-3.3), snr_valid_wflux_list)\n",
    "Vela.tf = 500\n",
    "Vela.tn = 12000\n",
    "tpw = -1.63\n",
    "def integrand(t):\n",
    "    return (np.maximum(t, Vela.tf)/Vela.tn)**tpw\n",
    "intSg_Vela = Vela.flux1GHz * integrate.quad(integrand, 0, Vela.tn)[0]"
   ]
  },
  {
   "cell_type": "code",
   "execution_count": 20,
   "metadata": {},
   "outputs": [
    {
     "name": "stdout",
     "output_type": "stream",
     "text": [
      "3.666929888837269\n"
     ]
    }
   ],
   "source": [
    "c0kpcyr = 0.000306601 # kpc/yr\n",
    "sigmad_over_c = 160/300000 # (km/s) / (km/s)\n",
    "blur_sigma = 2*sigmad_over_c*(180/np.pi)*60 # arcmin\n",
    "print(blur_sigma)"
   ]
  },
  {
   "cell_type": "code",
   "execution_count": 23,
   "metadata": {},
   "outputs": [
    {
     "name": "stdout",
     "output_type": "stream",
     "text": [
      "SNR GID      intSg   *bs^2   size   blur   dist   age      s    loc  other names\n",
      "G000.0+00.0  0.082   4.310    2.9    3.9   8.000  3.5e+03  2.60  S   Sgr A East\n",
      "G006.4-00.1  19.931  81.511   48.0   14.0   1.876  3.4e+04  2.50  S   W28\n",
      "G008.7-00.1  0.281   5.685   45.0    6.3   4.382  2.0e+04  2.00  S   (W30)\n",
      "G018.8+00.3  1.023  13.662   14.0    7.7  13.794  1.0e+05  1.92  S   Kes 67\n",
      "G021.8-00.6  0.086   3.305   20.0    4.6   5.596  9.0e+03  2.12  S   Kes 69\n",
      "G023.3-00.3  3.658  10.752   27.0   16.5   4.796  1.1e+05  2.00  S   W41\n",
      "G031.9+00.0  0.084   3.638    5.9    4.3   7.089  7.9e+03  2.50  S   3C391, Kes 77\n",
      "G034.7-00.4  0.096   2.581   31.0    5.5   2.632  8.4e+03  1.74  N   W44, 3C392\n",
      "G039.7-02.0  8.694  67.962   85.0   10.1   4.770  5.5e+04  2.40  N   W50, (SS433)\n",
      "G049.2-00.7  0.117   3.143   30.0    5.5   5.367  1.7e+04  1.60  N   W51C\n",
      "G054.4-00.3  0.571   3.771   40.0   11.0   4.667  6.1e+04  2.00  N   (HC40)\n",
      "G065.1+00.6  0.432   5.159   67.0    8.2   9.295  7.5e+04  2.22  N   G065.1+00.6\n",
      "G065.7+01.2  0.128   1.016   15.0   10.1   1.897  2.2e+04  2.50  N   DA 495\n",
      "G069.0+02.7  23.394  68.760   80.0   16.5   2.627  6.0e+04  2.50  N   CTB 80, W56\n",
      "G074.0-08.5  2.268   9.084  190.0   14.1   0.759  1.4e+04  2.50  N   Cygnus Loop, W78, Sh2-103, contains Veil\n",
      "G074.9+01.2  0.054   2.078    6.9    4.6   6.535  1.1e+04  2.50  N   CTB 87\n",
      "G078.2+02.1  0.458   7.242   60.0    7.1   1.844  1.1e+04  2.02  N   W66, DR4, gamma Cygni\n",
      "G082.2+05.3  0.317   3.599   78.0    8.4   2.040  1.7e+04  2.00  N   W63\n",
      "G089.0+04.7  0.108   1.459  100.0    7.7   1.296  9.3e+03  1.76  N   HB21\n",
      "G119.5+10.2  0.117   1.154   90.0    9.0   1.367  1.3e+04  2.20  N   CTA 1\n",
      "G126.2+01.6  1.333   0.764   70.0   37.4   4.500  2.7e+05  2.00  N   G126.2+01.6\n",
      "G132.7+01.3  0.594   3.685   80.0   11.4   2.098  2.9e+04  2.20  N   HB3\n",
      "G180.0-01.7  3.109   8.951  180.0   16.7   1.285  3.0e+04  2.50  N   S147, Sh2-240, Spaghetti Nebula\n",
      "G205.5+00.5  1.402   1.102  220.0   31.9   1.335  6.7e+04  1.80  N   Monoceros Loop\n",
      "G263.9-03.3  13.601  13.602  255.0   28.3   0.274  1.2e+04  2.50  S   Vela, contains NGC 2736 = Pencil Nebula\n",
      "G290.1-00.8  0.043   1.403   16.0    4.9   6.205  1.4e+04  1.80  S   MSH 11-61A\n",
      "G315.4-02.3  0.029   1.030   42.0    4.7   2.592  5.0e+03  2.20  S   RCW 86, MSH 14-63\n",
      "G326.3-01.8  1.266  36.409   38.0    5.3   4.441  1.3e+04  2.50  S   MSH 15-56, Kes 25\n",
      "G327.4+00.4  0.036   1.458   21.0    4.5   5.287  7.4e+03  2.20  S   Kes 27\n",
      "G330.0+15.0  2.035   0.437  180.0   61.1   0.274  2.8e+04  2.00  S   Lupus Loop\n",
      "G348.5+00.1  0.038   1.485   15.0    4.5   8.874  1.3e+04  1.60  S   CTB 37A\n"
     ]
    }
   ],
   "source": [
    "print('SNR GID      intSg   *bs^2   size   blur   dist   age      s    loc  other names')\n",
    "for snr in snr_valid_wflux_list:\n",
    "    m = intSg(snr)/intSg_Vela\n",
    "    dDM_max = c0kpcyr * snr.tn/2 # kpc\n",
    "    blur_max = (1+dDM_max/snr.d) * blur_sigma\n",
    "    m2 = m*(blur_max/28.3)**-2\n",
    "    if m > 1 or m2 > 1:\n",
    "        print('%s  %.3f  %6.3f  %5.1f  %5.1f  %6.3f  %.1e  %.2f  %s   %s' % \\\n",
    "              (snr.ID, m, m2, snr.size, blur_max, snr.d, snr.tn, snr.s, snr.hemisph, snr.name[:40]))"
   ]
  },
  {
   "cell_type": "code",
   "execution_count": 124,
   "metadata": {},
   "outputs": [
    {
     "data": {
      "text/plain": [
       "0.75"
      ]
     },
     "execution_count": 124,
     "metadata": {},
     "output_type": "execute_result"
    }
   ],
   "source": [
    "get_snr('G006.4-00.1', snr_list).spec_ind"
   ]
  },
  {
   "cell_type": "code",
   "execution_count": 126,
   "metadata": {},
   "outputs": [
    {
     "data": {
      "text/plain": [
       "0.7"
      ]
     },
     "execution_count": 126,
     "metadata": {},
     "output_type": "execute_result"
    }
   ],
   "source": [
    "get_snr('G039.7-02.0', snr_list).spec_ind"
   ]
  },
  {
   "cell_type": "code",
   "execution_count": null,
   "metadata": {},
   "outputs": [],
   "source": []
  }
 ],
 "metadata": {
  "kernelspec": {
   "display_name": "Python 3",
   "language": "python",
   "name": "python3"
  },
  "language_info": {
   "codemirror_mode": {
    "name": "ipython",
    "version": 3
   },
   "file_extension": ".py",
   "mimetype": "text/x-python",
   "name": "python",
   "nbconvert_exporter": "python",
   "pygments_lexer": "ipython3",
   "version": "3.7.6"
  }
 },
 "nbformat": 4,
 "nbformat_minor": 5
}
