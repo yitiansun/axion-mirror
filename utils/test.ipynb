{
 "cells": [
  {
   "cell_type": "code",
   "execution_count": 1,
   "id": "1641ee5e-4365-408f-8765-7e789323d8fd",
   "metadata": {},
   "outputs": [],
   "source": [
    "import jax.numpy as jnp\n",
    "from jax import jit, vmap\n",
    "\n",
    "import sys\n",
    "sys.path.append('..')\n",
    "from utils.units_constants import *"
   ]
  },
  {
   "cell_type": "code",
   "execution_count": 24,
   "id": "ff90e16e-2376-4ddd-985b-d4847aff55f0",
   "metadata": {},
   "outputs": [],
   "source": [
    "from utils.nfw import rho_integral"
   ]
  },
  {
   "cell_type": "code",
   "execution_count": 21,
   "id": "26a69c82-49dd-41ec-99eb-ad477f8750fe",
   "metadata": {},
   "outputs": [],
   "source": [
    "x = jnp.arange(6)\n",
    "y = x + 1"
   ]
  },
  {
   "cell_type": "code",
   "execution_count": 25,
   "id": "856e226b-52eb-43fa-8465-2ab9f3b43a18",
   "metadata": {},
   "outputs": [
    {
     "data": {
      "text/plain": [
       "DeviceArray([[0, 1],\n",
       "             [1, 2],\n",
       "             [2, 3],\n",
       "             [3, 4],\n",
       "             [4, 5],\n",
       "             [5, 6]], dtype=int32)"
      ]
     },
     "execution_count": 25,
     "metadata": {},
     "output_type": "execute_result"
    }
   ],
   "source": [
    "z = jnp.stack([x, y], axis=-1)\n",
    "z"
   ]
  },
  {
   "cell_type": "code",
   "execution_count": 26,
   "id": "41c97186-ed7f-445c-99fb-8f8cacc1526f",
   "metadata": {},
   "outputs": [
    {
     "data": {
      "text/plain": [
       "DeviceArray([ 9.312056 ,  5.1329365,  8.111118 , 10.710487 ,  5.246497 ,\n",
       "              7.1530776], dtype=float32)"
      ]
     },
     "execution_count": 26,
     "metadata": {},
     "output_type": "execute_result"
    }
   ],
   "source": [
    "rho_integral(z)"
   ]
  },
  {
   "cell_type": "code",
   "execution_count": 2,
   "id": "bf3ccd50-087c-4b8f-b8aa-b407a7ff17b2",
   "metadata": {},
   "outputs": [],
   "source": [
    "x = jnp.array([\n",
    "    [1.0, 2.0],\n",
    "    [2.0, 2.0],\n",
    "    [2.0, 3.0],\n",
    "    [3.0, 4.0]\n",
    "])"
   ]
  },
  {
   "cell_type": "code",
   "execution_count": 3,
   "id": "76793706-26b9-414a-9e44-46b643a91686",
   "metadata": {},
   "outputs": [],
   "source": [
    "norm = vmap(jnp.linalg.norm)"
   ]
  },
  {
   "cell_type": "code",
   "execution_count": 4,
   "id": "afd4b731-79fe-4ed9-9bdf-92af926519a3",
   "metadata": {},
   "outputs": [
    {
     "data": {
      "text/plain": [
       "DeviceArray([2.236068 , 2.828427 , 3.6055512, 5.       ], dtype=float32)"
      ]
     },
     "execution_count": 4,
     "metadata": {},
     "output_type": "execute_result"
    }
   ],
   "source": [
    "norm(x)"
   ]
  },
  {
   "cell_type": "code",
   "execution_count": 2,
   "id": "aab959ad-917f-488e-9a70-c7adb601678b",
   "metadata": {},
   "outputs": [
    {
     "data": {
      "text/plain": [
       "0.0002908882086657216"
      ]
     },
     "execution_count": 2,
     "metadata": {},
     "output_type": "execute_result"
    }
   ],
   "source": [
    "arcmin"
   ]
  },
  {
   "cell_type": "code",
   "execution_count": null,
   "id": "d6b9224b-1274-4ea6-97db-000a645ff42d",
   "metadata": {},
   "outputs": [],
   "source": []
  }
 ],
 "metadata": {
  "kernelspec": {
   "display_name": "Python 3 (ipykernel)",
   "language": "python",
   "name": "python3"
  },
  "language_info": {
   "codemirror_mode": {
    "name": "ipython",
    "version": 3
   },
   "file_extension": ".py",
   "mimetype": "text/x-python",
   "name": "python",
   "nbconvert_exporter": "python",
   "pygments_lexer": "ipython3",
   "version": "3.10.5"
  }
 },
 "nbformat": 4,
 "nbformat_minor": 5
}
