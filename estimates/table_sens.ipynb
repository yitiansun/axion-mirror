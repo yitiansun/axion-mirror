{
 "cells": [
  {
   "cell_type": "code",
   "execution_count": 1,
   "id": "17d024f4-9b07-4a49-a630-bef211c4692d",
   "metadata": {
    "tags": []
   },
   "outputs": [],
   "source": [
    "%reload_ext autoreload\n",
    "%autoreload 2\n",
    "\n",
    "import sys\n",
    "import h5py\n",
    "import numpy as np\n",
    "\n",
    "sys.path.append(\"..\")\n",
    "import axionmirror.units_constants as uc\n",
    "\n",
    "from config import pc_dict\n",
    "\n",
    "%matplotlib inline\n",
    "import matplotlib as mpl\n",
    "import matplotlib.pyplot as plt\n",
    "from matplotlib import colormaps as cms\n",
    "mpl.rc_file('../matplotlibrc')"
   ]
  },
  {
   "cell_type": "code",
   "execution_count": 62,
   "id": "6dea14e0",
   "metadata": {},
   "outputs": [
    {
     "name": "stdout",
     "output_type": "stream",
     "text": [
      "At 400 MHz\n",
      "name     Aeff[m^2]  FOV[deg^2] n_pixel tobs/day[min] sqrt(npol*Aeff*FOV) sens(rel.)\n",
      "CHIME         3120         515   41379          26.3          1.000      1.000\n",
      "HERA         29548          16   19637          18.4          0.537      0.323\n",
      "CHORD         7173         102   52317          10.5          0.676      0.815\n",
      "HIRAX256      3629         102   34902           7.9          0.481      0.446\n",
      "HIRAX1024    14515         102  139607           7.9          0.962      0.892\n",
      "BURSTT256      131        3600    1343         262.1          0.383      0.462\n",
      "BURSTT2048    1037        3600   10624         262.1          1.078      1.299\n"
     ]
    }
   ],
   "source": [
    "nu_ref = 400. # [MHz]\n",
    "t_ref = pc_dict['CHIME'].telescope\n",
    "sens_ref = t_ref.sens_estimate([nu_ref])[0]\n",
    "merit_ref = t_ref.merit(nu_ref)\n",
    "\n",
    "print(f'At {nu_ref:.0f} MHz')\n",
    "print('name     Aeff[m^2]  FOV[deg^2] n_pixel tobs/day[min] sqrt(npol*Aeff*FOV) sens(rel.)')\n",
    "pc_names = ['CHIME', 'HERA', 'CHORD', 'HIRAX256', 'HIRAX1024', 'BURSTT256', 'BURSTT2048']\n",
    "\n",
    "for pc_name in pc_names:\n",
    "    pc = pc_dict[pc_name]\n",
    "    t = pc.telescope\n",
    "    \n",
    "    print(f'{t.name:12}', end='')\n",
    "    A = t.Aeff_zenith(nu_ref)/10000 # [m^2]\n",
    "    print(f'{A:6.0f}', end='')\n",
    "    FOV = t.instantaneous_fov(nu_ref)*(180/np.pi)**2 # [deg^2]\n",
    "    print(f'{FOV:12.0f}', end='')\n",
    "    pixel_size = (uc.c0 / nu_ref) ** 2 / t.Aeff_zenith(nu_ref) # [rad^2]\n",
    "    n_pixel = t.survey_area(nu_ref) / pixel_size\n",
    "    print(f'{n_pixel:8.0f}', end='')\n",
    "    print(f'{t.t_obs(nu_ref, t.dec)/t.t_obs_days/60:14.1f}', end='')\n",
    "    print(f'{t.merit(nu_ref) / merit_ref:15.3f}', end='')\n",
    "    print(f'{(t.sens_estimate([nu_ref])[0] / sens_ref) ** (-2):11.3f}')"
   ]
  },
  {
   "cell_type": "code",
   "execution_count": 2,
   "id": "3cc5b62e",
   "metadata": {},
   "outputs": [
    {
     "name": "stdout",
     "output_type": "stream",
     "text": [
      "name     Central freq. Aeff[m^2]  FOV[deg^2] sqrt(npol*Aeff*FOV) sens(rel.)\n",
      "CHIME            400        3120         515          1.000      1.000\n",
      "HERA             250       29548          40          0.859      1.374\n",
      "HERA             400       29548          16          0.537      1.374\n",
      "CHORD            400        7173         102          0.676      0.993\n",
      "HIRAX256         400        3629         102          0.481      0.684\n",
      "HIRAX1024        400       14515         102          0.962      1.834\n",
      "BURSTT256        400         131        3600          0.383      0.251\n",
      "BURSTT2048       400        1037        3600          1.078      1.258\n",
      "PUMA5k           400      142531          51          2.131\n",
      "PUMA5kC          400      141376          65          2.395\n",
      "PUMA32k          400      905938          51          5.372\n",
      "FARSIDE          400 10000000000           0         10.702\n"
     ]
    }
   ],
   "source": [
    "print('name     Central freq. Aeff[m^2]  FOV[deg^2] sqrt(npol*Aeff*FOV) sens(rel.)')\n",
    "pc_names = ['CHIME', 'HERA', 'HERA', 'CHORD', 'HIRAX256', 'HIRAX1024', 'BURSTT256', 'BURSTT2048', 'PUMA5k', 'PUMA5kC', 'PUMA32k', 'FARSIDE']\n",
    "\n",
    "HERA_counter = 0\n",
    "for pc_name in pc_names:\n",
    "\n",
    "    pc = pc_dict[pc_name]\n",
    "\n",
    "    t = pc.telescope\n",
    "    print(f'{t.name:12}', end='')\n",
    "\n",
    "    nu = 400.\n",
    "    if pc_name == 'HERA':\n",
    "        HERA_counter += 1\n",
    "        nu = 250. if HERA_counter == 1 else 400.\n",
    "    print(f'{nu:8.0f}', end='')\n",
    "\n",
    "    A = t.Aeff_zenith(nu)/10000 # [m^2]\n",
    "    print(f'{A:12.0f}', end='')\n",
    "\n",
    "    FOV = t.instantaneous_fov(nu)*(180/np.pi)**2 # [deg^2]\n",
    "    print(f'{FOV:12.0f}', end='')\n",
    "    \n",
    "    merit = t.merit(nu)\n",
    "    if pc_name == 'CHIME':\n",
    "        merit_ref = merit\n",
    "    print(f'{merit / merit_ref:15.3f}', end='')\n",
    "\n",
    "    if not (pc_name.startswith('PUMA') or pc_name.startswith('FARSIDE')):\n",
    "        with h5py.File(f\"../outputs/plot_data/{pc.name}/total-base.h5\", 'r') as hf:\n",
    "            nu_arr = hf['nu'][:]\n",
    "            gagg_arr = hf['gagg'][:]\n",
    "\n",
    "        gagg_med = np.median(gagg_arr, axis=0)\n",
    "        sens_est = np.interp(nu, nu_arr, gagg_med)\n",
    "        if pc_name == 'CHIME':\n",
    "            sens_est_ref = sens_est\n",
    "    \n",
    "        print(f'{(sens_est / sens_est_ref)**(-2):11.3f}')\n",
    "\n",
    "    else:\n",
    "        print('')"
   ]
  },
  {
   "cell_type": "code",
   "execution_count": 2,
   "id": "aebcc77d",
   "metadata": {},
   "outputs": [
    {
     "name": "stdout",
     "output_type": "stream",
     "text": [
      "name     Central freq. Aeff[m^2]  FOV[deg^2] sqrt(npol*Aeff*FOV) sens(rel.)\n",
      "CHIME             50        3120        4122          1.000      1.000\n",
      "HERA              50       29548        1004          1.518      3.210\n",
      "CHORD             50        7173        6557          1.912      1.166\n",
      "HIRAX256          50        3629        6557          1.360      0.684\n",
      "HIRAX1024         50       14515        6557          2.720      1.834\n",
      "BURSTT256         50        8392        3600          1.084      0.381\n",
      "BURSTT2048        50       66385        3600          3.048      1.812\n",
      "PUMA5k            50      142531        3278          6.027\n",
      "PUMA5kC           50      141376        4174          6.773\n",
      "PUMA32k           50      905938        3278         15.196\n",
      "FARSIDE           50 10000000000           1         30.270\n"
     ]
    }
   ],
   "source": [
    "print('name     Central freq. Aeff[m^2]  FOV[deg^2] sqrt(npol*Aeff*FOV) sens(rel.)')\n",
    "pc_names = ['CHIME', 'HERA', 'CHORD', 'HIRAX256', 'HIRAX1024', 'BURSTT256', 'BURSTT2048', 'PUMA5k', 'PUMA5kC', 'PUMA32k', 'FARSIDE']\n",
    "\n",
    "for pc_name in pc_names:\n",
    "\n",
    "    pc = pc_dict[pc_name]\n",
    "\n",
    "    t = pc.telescope\n",
    "    print(f'{t.name:12}', end='')\n",
    "\n",
    "    nu = 50.\n",
    "    print(f'{nu:8.0f}', end='')\n",
    "\n",
    "    A = t.Aeff_zenith(nu)/10000 # [m^2]\n",
    "    print(f'{A:12.0f}', end='')\n",
    "\n",
    "    FOV = t.instantaneous_fov(nu)*(180/np.pi)**2 # [deg^2]\n",
    "    print(f'{FOV:12.0f}', end='')\n",
    "    \n",
    "    merit = t.merit(nu)\n",
    "    if pc_name == 'CHIME':\n",
    "        merit_ref = merit\n",
    "    print(f'{merit / merit_ref:15.3f}', end='')\n",
    "\n",
    "    if not (pc_name.startswith('PUMA') or pc_name.startswith('FARSIDE')):\n",
    "        with h5py.File(f\"../outputs/plot_data/{pc.name}/total-base.h5\", 'r') as hf:\n",
    "            nu_arr = hf['nu'][:]\n",
    "            gagg_arr = hf['gagg'][:]\n",
    "\n",
    "        gagg_med = np.median(gagg_arr, axis=0)\n",
    "        sens_est = np.interp(nu, nu_arr, gagg_med)\n",
    "        if pc_name == 'CHIME':\n",
    "            sens_est_ref = sens_est\n",
    "    \n",
    "        print(f'{(sens_est / sens_est_ref)**(-2):11.3f}')\n",
    "\n",
    "    else:\n",
    "        print('')"
   ]
  },
  {
   "cell_type": "code",
   "execution_count": 15,
   "id": "281874df",
   "metadata": {},
   "outputs": [
    {
     "data": {
      "text/plain": [
       "0.5373220202804903"
      ]
     },
     "execution_count": 15,
     "metadata": {},
     "output_type": "execute_result"
    }
   ],
   "source": [
    "1.374 * (400**-3/(35*(400/408)**-2.5+100)) / (250**-3/(35*(250/408)**-2.5+100))"
   ]
  },
  {
   "cell_type": "code",
   "execution_count": 10,
   "id": "a9260a72",
   "metadata": {},
   "outputs": [
    {
     "name": "stdout",
     "output_type": "stream",
     "text": [
      "1.2816486840672586e-11\n"
     ]
    }
   ],
   "source": [
    "with h5py.File(f\"../outputs/plot_data/{pc_dict['HIRAX1024'].name}/total-base.h5\", 'r') as hf:\n",
    "    nu_arr = hf['nu'][:]\n",
    "    gagg_arr = hf['gagg'][:]\n",
    "\n",
    "print(np.median(gagg_arr[:,0]))"
   ]
  },
  {
   "cell_type": "code",
   "execution_count": 11,
   "id": "0af876b5",
   "metadata": {},
   "outputs": [
    {
     "name": "stdout",
     "output_type": "stream",
     "text": [
      "1.7354508929977476e-11\n"
     ]
    }
   ],
   "source": [
    "with h5py.File(f\"../outputs/plot_data/{pc_dict['CHIME'].name}/total-base.h5\", 'r') as hf:\n",
    "    nu_arr = hf['nu'][:]\n",
    "    gagg_arr = hf['gagg'][:]\n",
    "\n",
    "print(np.median(gagg_arr[:,0]))"
   ]
  },
  {
   "cell_type": "code",
   "execution_count": 12,
   "id": "e2c3620a",
   "metadata": {},
   "outputs": [
    {
     "name": "stdout",
     "output_type": "stream",
     "text": [
      "2.0978565990586333e-11\n"
     ]
    }
   ],
   "source": [
    "with h5py.File(f\"../outputs/plot_data/{pc_dict['HIRAX256'].name}/total-base.h5\", 'r') as hf:\n",
    "    nu_arr = hf['nu'][:]\n",
    "    gagg_arr = hf['gagg'][:]\n",
    "    \n",
    "print(np.median(gagg_arr[:,0]))"
   ]
  },
  {
   "cell_type": "code",
   "execution_count": 13,
   "id": "cf6771fc",
   "metadata": {},
   "outputs": [
    {
     "data": {
      "text/plain": [
       "2.679252253353275"
      ]
     },
     "execution_count": 13,
     "metadata": {},
     "output_type": "execute_result"
    }
   ],
   "source": [
    "(2.0978565990586333e-11/1.2816486840672586e-11)**2"
   ]
  },
  {
   "cell_type": "code",
   "execution_count": null,
   "id": "7f6b4d0d",
   "metadata": {},
   "outputs": [],
   "source": []
  }
 ],
 "metadata": {
  "kernelspec": {
   "display_name": "Python 3 (ipykernel)",
   "language": "python",
   "name": "python3"
  },
  "language_info": {
   "codemirror_mode": {
    "name": "ipython",
    "version": 3
   },
   "file_extension": ".py",
   "mimetype": "text/x-python",
   "name": "python",
   "nbconvert_exporter": "python",
   "pygments_lexer": "ipython3",
   "version": "3.11.4"
  }
 },
 "nbformat": 4,
 "nbformat_minor": 5
}
