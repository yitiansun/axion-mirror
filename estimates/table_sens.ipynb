{
 "cells": [
  {
   "cell_type": "code",
   "execution_count": 1,
   "id": "17d024f4-9b07-4a49-a630-bef211c4692d",
   "metadata": {
    "tags": []
   },
   "outputs": [],
   "source": [
    "%reload_ext autoreload\n",
    "%autoreload 2\n",
    "\n",
    "import sys\n",
    "import h5py\n",
    "import numpy as np\n",
    "\n",
    "sys.path.append(\"..\")\n",
    "import axionmirror.units_constants as uc\n",
    "\n",
    "from config import pc_dict\n",
    "\n",
    "%matplotlib inline\n",
    "import matplotlib as mpl\n",
    "import matplotlib.pyplot as plt\n",
    "from matplotlib import colormaps as cms\n",
    "mpl.rc_file('../matplotlibrc')"
   ]
  },
  {
   "cell_type": "code",
   "execution_count": 2,
   "id": "3cc5b62e",
   "metadata": {},
   "outputs": [
    {
     "name": "stdout",
     "output_type": "stream",
     "text": [
      "name     Central freq. Aeff[m^2]  FOV[deg^2] sqrt(npol*Aeff*FOV) sens(rel.)\n",
      "CHIME            400        3120         515          1.000      1.000\n",
      "HERA             250       29548          40          0.859      1.374\n",
      "HERA             400       29548          16          0.537      1.374\n",
      "CHORD            400        7173         102          0.676      0.993\n",
      "HIRAX256         400        3629         102          0.481      0.684\n",
      "HIRAX1024        400       14515         102          0.962      1.834\n",
      "BURSTT256        400         131        3600          0.383      0.251\n",
      "BURSTT2048       400        1037        3600          1.078      1.258\n",
      "PUMA5k           400      142531          51          2.131\n",
      "PUMA5kC          400      141376          65          2.395\n",
      "PUMA32k          400      905938          51          5.372\n",
      "FARSIDE          400 10000000000           0         10.702\n"
     ]
    }
   ],
   "source": [
    "# 400 MHz\n",
    "print('name     Central freq. Aeff[m^2]  FOV[deg^2] sqrt(npol*Aeff*FOV) sens(rel.)')\n",
    "pc_names = ['CHIME', 'HERA', 'HERA', 'CHORD', 'HIRAX256', 'HIRAX1024', 'BURSTT256', 'BURSTT2048', 'PUMA5k', 'PUMA5kC', 'PUMA32k', 'FARSIDE']\n",
    "\n",
    "HERA_counter = 0\n",
    "for pc_name in pc_names:\n",
    "\n",
    "    pc = pc_dict[pc_name]\n",
    "\n",
    "    t = pc.telescope\n",
    "    print(f'{t.name:12}', end='')\n",
    "\n",
    "    nu = 400.\n",
    "    if pc_name == 'HERA':\n",
    "        HERA_counter += 1\n",
    "        nu = 250. if HERA_counter == 1 else 400.\n",
    "    print(f'{nu:8.0f}', end='')\n",
    "\n",
    "    A = t.Aeff_zenith(nu)/10000 # [m^2]\n",
    "    print(f'{A:12.0f}', end='')\n",
    "\n",
    "    FOV = t.instantaneous_fov(nu)*(180/np.pi)**2 # [deg^2]\n",
    "    print(f'{FOV:12.0f}', end='')\n",
    "    \n",
    "    merit = t.merit(nu)\n",
    "    if pc_name == 'CHIME':\n",
    "        merit_ref = merit\n",
    "    print(f'{merit / merit_ref:15.3f}', end='')\n",
    "\n",
    "    if not (pc_name.startswith('PUMA') or pc_name.startswith('FARSIDE')):\n",
    "        with h5py.File(f\"../outputs/plot_data/{pc.name}/total-base.h5\", 'r') as hf:\n",
    "            nu_arr = hf['nu'][:]\n",
    "            gagg_arr = hf['gagg'][:]\n",
    "\n",
    "        gagg_med = np.median(gagg_arr, axis=0)\n",
    "        sens_est = np.interp(nu, nu_arr, gagg_med)\n",
    "        if pc_name == 'CHIME':\n",
    "            sens_est_ref = sens_est\n",
    "    \n",
    "        print(f'{(sens_est / sens_est_ref)**(-2):11.3f}')\n",
    "\n",
    "    else:\n",
    "        print('')"
   ]
  },
  {
   "cell_type": "code",
   "execution_count": 2,
   "id": "aebcc77d",
   "metadata": {},
   "outputs": [
    {
     "name": "stdout",
     "output_type": "stream",
     "text": [
      "name     Central freq. Aeff[m^2]  FOV[deg^2] sqrt(npol*Aeff*FOV) sens(rel.)\n",
      "CHIME             50        3120        4122          1.000      1.000\n",
      "HERA              50       29548        1004          1.518      3.210\n",
      "CHORD             50        7173        6557          1.912      1.166\n",
      "HIRAX256          50        3629        6557          1.360      0.684\n",
      "HIRAX1024         50       14515        6557          2.720      1.834\n",
      "BURSTT256         50        8392        3600          1.084      0.381\n",
      "BURSTT2048        50       66385        3600          3.048      1.812\n",
      "PUMA5k            50      142531        3278          6.027\n",
      "PUMA5kC           50      141376        4174          6.773\n",
      "PUMA32k           50      905938        3278         15.196\n",
      "FARSIDE           50 10000000000           1         30.270\n"
     ]
    }
   ],
   "source": [
    "# 50 MHz\n",
    "print('name     Central freq. Aeff[m^2]  FOV[deg^2] sqrt(npol*Aeff*FOV) sens(rel.)')\n",
    "pc_names = ['CHIME', 'HERA', 'CHORD', 'HIRAX256', 'HIRAX1024', 'BURSTT256', 'BURSTT2048', 'PUMA5k', 'PUMA5kC', 'PUMA32k', 'FARSIDE']\n",
    "\n",
    "for pc_name in pc_names:\n",
    "\n",
    "    pc = pc_dict[pc_name]\n",
    "\n",
    "    t = pc.telescope\n",
    "    print(f'{t.name:12}', end='')\n",
    "\n",
    "    nu = 50.\n",
    "    print(f'{nu:8.0f}', end='')\n",
    "\n",
    "    A = t.Aeff_zenith(nu)/10000 # [m^2]\n",
    "    print(f'{A:12.0f}', end='')\n",
    "\n",
    "    FOV = t.instantaneous_fov(nu)*(180/np.pi)**2 # [deg^2]\n",
    "    print(f'{FOV:12.0f}', end='')\n",
    "    \n",
    "    merit = t.merit(nu)\n",
    "    if pc_name == 'CHIME':\n",
    "        merit_ref = merit\n",
    "    print(f'{merit / merit_ref:15.3f}', end='')\n",
    "\n",
    "    if not (pc_name.startswith('PUMA') or pc_name.startswith('FARSIDE')):\n",
    "        with h5py.File(f\"../outputs/plot_data/{pc.name}/total-base.h5\", 'r') as hf:\n",
    "            nu_arr = hf['nu'][:]\n",
    "            gagg_arr = hf['gagg'][:]\n",
    "\n",
    "        gagg_med = np.median(gagg_arr, axis=0)\n",
    "        sens_est = np.interp(nu, nu_arr, gagg_med)\n",
    "        if pc_name == 'CHIME':\n",
    "            sens_est_ref = sens_est\n",
    "    \n",
    "        print(f'{(sens_est / sens_est_ref)**(-2):11.3f}')\n",
    "\n",
    "    else:\n",
    "        print('')"
   ]
  }
 ],
 "metadata": {
  "kernelspec": {
   "display_name": "Python 3 (ipykernel)",
   "language": "python",
   "name": "python3"
  },
  "language_info": {
   "codemirror_mode": {
    "name": "ipython",
    "version": 3
   },
   "file_extension": ".py",
   "mimetype": "text/x-python",
   "name": "python",
   "nbconvert_exporter": "python",
   "pygments_lexer": "ipython3",
   "version": "3.11.4"
  }
 },
 "nbformat": 4,
 "nbformat_minor": 5
}
