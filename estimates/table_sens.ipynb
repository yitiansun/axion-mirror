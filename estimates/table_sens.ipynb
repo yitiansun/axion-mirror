{
 "cells": [
  {
   "cell_type": "code",
   "execution_count": 2,
   "id": "17d024f4-9b07-4a49-a630-bef211c4692d",
   "metadata": {
    "tags": []
   },
   "outputs": [],
   "source": [
    "%reload_ext autoreload\n",
    "%autoreload 2\n",
    "\n",
    "import sys\n",
    "from tqdm import tqdm\n",
    "import h5py\n",
    "import numpy as np\n",
    "\n",
    "sys.path.append(\"..\")\n",
    "import axionmirror.units_constants as uc\n",
    "\n",
    "from config import pc_dict\n",
    "\n",
    "%matplotlib inline\n",
    "import matplotlib as mpl\n",
    "import matplotlib.pyplot as plt\n",
    "from matplotlib import colormaps as cms\n",
    "mpl.rc_file('../matplotlibrc')"
   ]
  },
  {
   "cell_type": "code",
   "execution_count": 62,
   "id": "6dea14e0",
   "metadata": {},
   "outputs": [
    {
     "name": "stdout",
     "output_type": "stream",
     "text": [
      "At 400 MHz\n",
      "name     Aeff[m^2]  FOV[deg^2] n_pixel tobs/day[min] sqrt(npol*Aeff*FOV) sens(rel.)\n",
      "CHIME         3120         515   41379          26.3          1.000      1.000\n",
      "HERA         29548          16   19637          18.4          0.537      0.323\n",
      "CHORD         7173         102   52317          10.5          0.676      0.815\n",
      "HIRAX256      3629         102   34902           7.9          0.481      0.446\n",
      "HIRAX1024    14515         102  139607           7.9          0.962      0.892\n",
      "BURSTT256      131        3600    1343         262.1          0.383      0.462\n",
      "BURSTT2048    1037        3600   10624         262.1          1.078      1.299\n"
     ]
    }
   ],
   "source": [
    "nu_ref = 400. # [MHz]\n",
    "t_ref = pc_dict['CHIME'].telescope\n",
    "sens_ref = t_ref.sens_estimate([nu_ref])[0]\n",
    "merit_ref = t_ref.merit(nu_ref)\n",
    "\n",
    "print(f'At {nu_ref:.0f} MHz')\n",
    "print('name     Aeff[m^2]  FOV[deg^2] n_pixel tobs/day[min] sqrt(npol*Aeff*FOV) sens(rel.)')\n",
    "pc_names = ['CHIME', 'HERA', 'CHORD', 'HIRAX256', 'HIRAX1024', 'BURSTT256', 'BURSTT2048']\n",
    "\n",
    "for pc_name in pc_names:\n",
    "    pc = pc_dict[pc_name]\n",
    "    t = pc.telescope\n",
    "    \n",
    "    print(f'{t.name:12}', end='')\n",
    "    A = t.Aeff_zenith(nu_ref)/10000 # [m^2]\n",
    "    print(f'{A:6.0f}', end='')\n",
    "    FOV = t.instantaneous_fov(nu_ref)*(180/np.pi)**2 # [deg^2]\n",
    "    print(f'{FOV:12.0f}', end='')\n",
    "    pixel_size = (uc.c0 / nu_ref) ** 2 / t.Aeff_zenith(nu_ref) # [rad^2]\n",
    "    n_pixel = t.survey_area(nu_ref) / pixel_size\n",
    "    print(f'{n_pixel:8.0f}', end='')\n",
    "    print(f'{t.t_obs(nu_ref, t.dec)/t.t_obs_days/60:14.1f}', end='')\n",
    "    print(f'{t.merit(nu_ref) / merit_ref:15.3f}', end='')\n",
    "    print(f'{(t.sens_estimate([nu_ref])[0] / sens_ref) ** (-2):11.3f}')"
   ]
  },
  {
   "cell_type": "code",
   "execution_count": 7,
   "id": "3cc5b62e",
   "metadata": {},
   "outputs": [
    {
     "name": "stdout",
     "output_type": "stream",
     "text": [
      "At 400 MHz\n",
      "name     Central freq. Aeff[m^2]  FOV[deg^2] sqrt(npol*Aeff*FOV) sens(rel.)\n",
      "CHIME            600  3120         344          1.000      1.000\n",
      "HERA             150 29548         112          1.753      2.329\n",
      "CHORD            900  7173          20          0.368      0.355\n",
      "HIRAX256         600  3629          46          0.393      0.598\n",
      "HIRAX1024        600 14515          46          0.785      1.571\n",
      "BURSTT256        550    69        3600          0.341      0.206\n",
      "BURSTT2048       550   549        3600          0.960      1.050\n"
     ]
    }
   ],
   "source": [
    "nu_ref = 400. # [MHz]\n",
    "t_ref = pc_dict['CHIME'].telescope\n",
    "sens_ref = t_ref.sens_estimate([nu_ref])[0]\n",
    "merit_ref = t_ref.merit(nu_ref)\n",
    "\n",
    "print(f'At {nu_ref:.0f} MHz')\n",
    "print('name     Central freq. Aeff[m^2]  FOV[deg^2] sqrt(npol*Aeff*FOV) sens(rel.)')\n",
    "pc_names = ['CHIME', 'HERA', 'CHORD', 'HIRAX256', 'HIRAX1024', 'BURSTT256', 'BURSTT2048']\n",
    "\n",
    "for pc_name in pc_names:\n",
    "\n",
    "    pc = pc_dict[pc_name]\n",
    "\n",
    "    t = pc.telescope\n",
    "    print(f'{t.name:12}', end='')\n",
    "\n",
    "    nu = (t.nu_max + t.nu_min) / 2\n",
    "    print(f'{nu:8.0f}', end='')\n",
    "\n",
    "    A = t.Aeff_zenith(nu)/10000 # [m^2]\n",
    "    print(f'{A:6.0f}', end='')\n",
    "\n",
    "    FOV = t.instantaneous_fov(nu)*(180/np.pi)**2 # [deg^2]\n",
    "    print(f'{FOV:12.0f}', end='')\n",
    "    \n",
    "    merit = t.merit(nu)\n",
    "    if pc_name == 'CHIME':\n",
    "        merit_ref = merit\n",
    "    print(f'{merit / merit_ref:15.3f}', end='')\n",
    "\n",
    "    with h5py.File(f\"../outputs/plot_data/{pc.name}/total-base.h5\", 'r') as hf:\n",
    "        nu_arr = hf['nu'][:]\n",
    "        gagg_arr = hf['gagg'][:]\n",
    "\n",
    "    gagg_med = np.median(gagg_arr, axis=0)\n",
    "    sens_est = np.interp(nu, nu_arr, gagg_med)\n",
    "    if pc_name == 'CHIME':\n",
    "        sens_est_ref = sens_est\n",
    "    print(f'{(sens_est / sens_est_ref)**(-2):11.3f}')"
   ]
  },
  {
   "cell_type": "code",
   "execution_count": null,
   "id": "281874df",
   "metadata": {},
   "outputs": [],
   "source": []
  }
 ],
 "metadata": {
  "kernelspec": {
   "display_name": "Python 3 (ipykernel)",
   "language": "python",
   "name": "python3"
  },
  "language_info": {
   "codemirror_mode": {
    "name": "ipython",
    "version": 3
   },
   "file_extension": ".py",
   "mimetype": "text/x-python",
   "name": "python",
   "nbconvert_exporter": "python",
   "pygments_lexer": "ipython3",
   "version": "3.11.4"
  }
 },
 "nbformat": 4,
 "nbformat_minor": 5
}
